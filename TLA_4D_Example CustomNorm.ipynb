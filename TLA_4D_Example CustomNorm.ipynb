{
 "cells": [
  {
   "cell_type": "markdown",
   "metadata": {},
   "source": [
    "In this notebook, we will run a ready-made network starting from some ATLAS data, which is already normalized. There is also an alternative to train the network from scratch.  "
   ]
  },
  {
   "cell_type": "markdown",
   "metadata": {},
   "source": [
    "## Look into the dataset"
   ]
  },
  {
   "cell_type": "markdown",
   "metadata": {},
   "source": [
    "First we need to make sure that Python 3.8 is used in the notebook. It is required in order to open this certain .pkl-file. "
   ]
  },
  {
   "cell_type": "code",
   "execution_count": 1,
   "metadata": {},
   "outputs": [
    {
     "data": {
      "text/plain": "'3.7.9 (default, Aug 31 2020, 12:42:55) \\n[GCC 7.3.0]'"
     },
     "execution_count": 1,
     "metadata": {},
     "output_type": "execute_result"
    }
   ],
   "source": [
    "import sys\n",
    "sys.version"
   ]
  },
  {
   "cell_type": "markdown",
   "metadata": {},
   "source": [
    "We take a pickle dataset, and open into Pandas (after importing pandas). Note that you have to change the paths to the directory where your processed files are. "
   ]
  },
  {
   "cell_type": "code",
   "execution_count": 2,
   "metadata": {},
   "outputs": [
    {
     "name": "stdout",
     "output_type": "stream",
     "text": [
      "Training sample:\n",
      "            E1       pt1      eta1      phi1\n",
      "5337  0.495212  0.216464 -0.558381  0.277652\n",
      "1994  0.076496 -0.380319  0.621492 -0.323172\n",
      "1345 -0.030184 -0.055458  0.335171  0.119504\n",
      "5063  0.290811  0.319130  0.335669 -0.554551\n",
      "5542  0.293191  0.325090 -0.333162  0.927232\n",
      "\n",
      "\n",
      "Testing sample:\n",
      "            E1       pt1      eta1      phi1\n",
      "1079 -0.174916 -0.644692 -0.603981 -0.964392\n",
      "3930  0.305721  0.448026 -0.238560 -0.414089\n",
      "5437  0.174036  0.007430  0.456927  0.328236\n",
      "3492 -0.168183 -0.073194 -0.151473 -0.516172\n",
      "3702 -0.160827 -0.102217  0.245329 -0.815312\n",
      "\n",
      "\n",
      "The number of entries in the training data: 4341\n",
      "The number of entries in the validation data: 1861\n"
     ]
    }
   ],
   "source": [
    "import pandas as pd\n",
    "\n",
    "# Change these paths to point to where you have stored the datasets. \n",
    "train_path = './CustomNorm/train.pkl'\n",
    "test_path = './CustomNorm/test.pkl'\n",
    "\n",
    "# Reads the .pkl-files with Pandas\n",
    "train = pd.read_pickle(train_path)\n",
    "test = pd.read_pickle(test_path)\n",
    "\n",
    "# To get an idea of the order of magnitude we are going to see in the plots we show the first elements \n",
    "# in the samples:\n",
    "print('Training sample:')\n",
    "print(train.head())\n",
    "\n",
    "print('\\n')\n",
    "\n",
    "print('Testing sample:')\n",
    "print(test.head())\n",
    "\n",
    "print('\\n')\n",
    "\n",
    "print('The number of entries in the training data:', len(train))\n",
    "print('The number of entries in the validation data:', len(test))"
   ]
  },
  {
   "cell_type": "markdown",
   "metadata": {},
   "source": [
    "Now we plot the data using the matplotlib library. The units reflect the normalization, but it's the shape that we care about. "
   ]
  },
  {
   "cell_type": "code",
   "execution_count": 3,
   "metadata": {},
   "outputs": [
    {
     "data": {
      "image/png": "[encoded data removed]",
      "text/plain": "<Figure size 432x288 with 1 Axes>"
     },
     "metadata": {
      "needs_background": "light"
     },
     "output_type": "display_data"
    },
    {
     "data": {
      "image/png": "[encoded data removed]",
      "text/plain": "<Figure size 432x288 with 1 Axes>"
     },
     "metadata": {
      "needs_background": "light"
     },
     "output_type": "display_data"
    },
    {
     "data": {
      "image/png": "[encoded data removed]",
      "text/plain": "<Figure size 432x288 with 1 Axes>"
     },
     "metadata": {
      "needs_background": "light"
     },
     "output_type": "display_data"
    },
    {
     "data": {
      "image/png": "[encoded data removed]",
      "text/plain": "<Figure size 432x288 with 1 Axes>"
     },
     "metadata": {
      "needs_background": "light"
     },
     "output_type": "display_data"
    }
   ],
   "source": [
    "import matplotlib.pyplot as plt\n",
    "\n",
    "unit_list = ['[log(GeV)]', '[rad/3]', '[rad/3]', '[log(GeV)]']\n",
    "variable_list = [r'$p_T$', r'$\\eta$', r'$\\phi$', r'$m$']\n",
    "\n",
    "branches=[\"pt1\",\"eta1\",\"phi1\",\"E1\"]\n",
    "\n",
    "n_bins = 100\n",
    "\n",
    "for kk in range(0,4):\n",
    "    n_hist_data, bin_edges, _ = plt.hist(train[branches[kk]], color='gray', label='Input', alpha=1, bins=n_bins)\n",
    "    plt.xlabel(xlabel=variable_list[kk] + ' ' + unit_list[kk])\n",
    "    plt.ylabel('# of events')\n",
    "    #plt.savefig(\"fourmomentum_\"+branches[kk],dpi=300)\n",
    "    plt.show()"
   ]
  },
  {
   "cell_type": "markdown",
   "metadata": {},
   "source": [
    "## Setting up the network"
   ]
  },
  {
   "cell_type": "markdown",
   "metadata": {},
   "source": [
    "### Preparing the data"
   ]
  },
  {
   "cell_type": "markdown",
   "metadata": {},
   "source": [
    "Adding the two datasets as TensorDatasets to PyTorch (also loading all other classes we'll need later)"
   ]
  },
  {
   "cell_type": "code",
   "execution_count": 4,
   "metadata": {},
   "outputs": [],
   "source": [
    "import torch\n",
    "import torch.nn as nn\n",
    "import torch.optim as optim\n",
    "import torch.utils.data\n",
    "from torch.autograd import Variable\n",
    "\n",
    "from torch.utils.data import TensorDataset\n",
    "from torch.utils.data import DataLoader\n",
    "\n",
    "from fastai import learner\n",
    "from fastai.data import core\n",
    "\n",
    "torch.manual_seed(1)\n",
    "\n",
    "train_x = train\n",
    "test_x = test\n",
    "train_y = train_x  # y = x since we are building an autoencoder\n",
    "test_y = test_x\n",
    "\n",
    "# Constructs a tensor object of the data and wraps them in a TensorDataset object.\n",
    "train_ds = TensorDataset(torch.tensor(train_x.values, dtype=torch.float), torch.tensor(train_y.values, dtype=torch.float))\n",
    "valid_ds = TensorDataset(torch.tensor(test_x.values, dtype=torch.float), torch.tensor(test_y.values, dtype=torch.float))"
   ]
  },
  {
   "cell_type": "markdown",
   "metadata": {},
   "source": [
    "We now set things up to load the data, and we use a batch size that was optimized by previous students...note also that this is fastai v2, migration thanks to Jessica Lastow."
   ]
  },
  {
   "cell_type": "code",
   "execution_count": 5,
   "metadata": {},
   "outputs": [],
   "source": [
    "bs = 256\n",
    "\n",
    "# Converts the TensorDataset into a DataLoader object and combines into one DataLoaders object (a basic wrapper\n",
    "# around several DataLoader objects). \n",
    "train_dl = DataLoader(train_ds, batch_size=bs, shuffle=True)\n",
    "valid_dl = DataLoader(valid_ds, batch_size=bs * 2)\n",
    "dls = core.DataLoaders(train_dl, valid_dl)"
   ]
  },
  {
   "cell_type": "markdown",
   "metadata": {},
   "source": [
    "### Preparing the network"
   ]
  },
  {
   "cell_type": "markdown",
   "metadata": {},
   "source": [
    "Here we have an example network. Details aren't too important, as long as they match what was already trained for us...in this case we have a LeakyReLU, tanh activation function, and a number of layers that goes from 4 to 200 to 20 to 3 (number of features in the hidden layer that we pick for testing compression) and then back all the way to 4. "
   ]
  },
  {
   "cell_type": "code",
   "execution_count": 6,
   "metadata": {},
   "outputs": [
    {
     "data": {
      "text/plain": "AE_3D_200_LeakyReLU(\n  (en1): Linear(in_features=4, out_features=200, bias=True)\n  (en2): Linear(in_features=200, out_features=200, bias=True)\n  (en3): Linear(in_features=200, out_features=20, bias=True)\n  (en4): Linear(in_features=20, out_features=3, bias=True)\n  (de1): Linear(in_features=3, out_features=20, bias=True)\n  (de2): Linear(in_features=20, out_features=200, bias=True)\n  (de3): Linear(in_features=200, out_features=200, bias=True)\n  (de4): Linear(in_features=200, out_features=4, bias=True)\n  (tanh): Tanh()\n)"
     },
     "execution_count": 6,
     "metadata": {},
     "output_type": "execute_result"
    }
   ],
   "source": [
    "class AE_3D_200_LeakyReLU(nn.Module):\n",
    "    def __init__(self, n_features=4):\n",
    "        super(AE_3D_200_LeakyReLU, self).__init__()\n",
    "        self.en1 = nn.Linear(n_features, 200)\n",
    "        self.en2 = nn.Linear(200, 200)\n",
    "        self.en3 = nn.Linear(200, 20)\n",
    "        self.en4 = nn.Linear(20, 3)\n",
    "        self.de1 = nn.Linear(3, 20)\n",
    "        self.de2 = nn.Linear(20, 200)\n",
    "        self.de3 = nn.Linear(200, 200)\n",
    "        self.de4 = nn.Linear(200, n_features)\n",
    "        self.tanh = nn.Tanh()\n",
    "\n",
    "    def encode(self, x):\n",
    "        return self.en4(self.tanh(self.en3(self.tanh(self.en2(self.tanh(self.en1(x)))))))\n",
    "\n",
    "    def decode(self, x):\n",
    "        return self.de4(self.tanh(self.de3(self.tanh(self.de2(self.tanh(self.de1(self.tanh(x))))))))\n",
    "\n",
    "    def forward(self, x):\n",
    "        z = self.encode(x)\n",
    "        return self.decode(z)\n",
    "\n",
    "    def describe(self):\n",
    "        return 'in-200-200-20-3-20-200-200-out'\n",
    "\n",
    "#model = AE_3D_200_LeakyReLU().double()\n",
    "model = AE_3D_200_LeakyReLU()\n",
    "model.to('cpu')"
   ]
  },
  {
   "cell_type": "markdown",
   "metadata": {},
   "source": [
    "We now have to pick a loss function - MSE loss is appropriate for a compression autoencoder since it reflects the [(input-output)/input] physical quantity that we want to minimize. "
   ]
  },
  {
   "cell_type": "code",
   "execution_count": 7,
   "metadata": {},
   "outputs": [],
   "source": [
    "from fastai.metrics import mse, mae\n",
    "\n",
    "loss_func = mse\n",
    "\n",
    "#bn_wd = False  # Don't use weight decay for batchnorm layers\n",
    "#true_wd = True  # weight decay will be used for all optimizers\n",
    "wd = 1e-6\n",
    "\n",
    "recorder = learner.Recorder()\n",
    "learn = learner.Learner(dls, model=model, wd=wd, loss_func=loss_func, cbs=recorder)\n",
    "#was: learn = basic_train.Learner(data=db, model=model, loss_func=loss_func, wd=wd, callback_fns=ActivationStats, bn_wd=bn_wd, true_wd=true_wd)"
   ]
  },
  {
   "cell_type": "markdown",
   "metadata": {},
   "source": [
    "## Alternative 2: Training a new network"
   ]
  },
  {
   "cell_type": "markdown",
   "metadata": {},
   "source": [
    "Instead of using a pre-trained network, an alternative is to train a new network and use that instead. "
   ]
  },
  {
   "cell_type": "markdown",
   "metadata": {},
   "source": [
    "First, we want to find the best learning rate. The learning rate is a hyper-paramater that sets how much the weights of the network will change each step with respect to the loss gradient.\n",
    "\n",
    "Then we plot the loss versus the learning rates. We're interested in finding a good order of magnitude of learning rate, so we plot with a log scale.\n",
    "\n",
    "A good value for the learning rates is then either:\n",
    "- one tenth of the minimum before the divergence\n",
    "- when the slope is the steepest"
   ]
  },
  {
   "cell_type": "code",
   "execution_count": 8,
   "metadata": {},
   "outputs": [
    {
     "name": "stdout",
     "output_type": "stream",
     "text": [
      "Learning rate with the minimum loss: 0.002290867641568184\n",
      "Learning rate with the steepest gradient: 0.002511886414140463\n"
     ]
    },
    {
     "data": {
      "image/png": "[encoded data removed]",
      "text/plain": "<Figure size 432x288 with 1 Axes>"
     },
     "metadata": {
      "needs_background": "light"
     },
     "output_type": "display_data"
    }
   ],
   "source": [
    "from fastai.callback import schedule\n",
    "\n",
    "lr_min, lr_steep = learn.lr_find()\n",
    "\n",
    "print('Learning rate with the minimum loss:', lr_min)\n",
    "print('Learning rate with the steepest gradient:', lr_steep)"
   ]
  },
  {
   "cell_type": "markdown",
   "metadata": {},
   "source": [
    "Now we want to run the training!\n",
    "\n",
    "User-chosen variables:\n",
    "- n_epoch: The number of epochs, i.e how many times the to run through all of the training data once (i.e the 1266046 entries, see cell 2)\n",
    "- lr: The learning rate. Either choose lr_min, lr_steep from above or set your own.\n"
   ]
  },
  {
   "cell_type": "code",
   "execution_count": 9,
   "metadata": {},
   "outputs": [
    {
     "name": "stdout",
     "output_type": "stream",
     "text": [
      "[0, 0.1533588171005249, 0.1448562741279602, '00:00']\n",
      "[0, 0.1533588171005249, 0.1448562741279602, '00:00']\n",
      "[1, 0.13638336956501007, 0.08920217305421829, '00:00']\n",
      "[1, 0.13638336956501007, 0.08920217305421829, '00:00']\n",
      "[2, 0.10345785319805145, 0.04385958984494209, '00:00']\n",
      "[2, 0.10345785319805145, 0.04385958984494209, '00:00']\n",
      "[3, 0.07392556965351105, 0.015553751960396767, '00:00']\n",
      "[3, 0.07392556965351105, 0.015553751960396767, '00:00']\n",
      "[4, 0.052934110164642334, 0.011903445236384869, '00:00']\n",
      "[4, 0.052934110164642334, 0.011903445236384869, '00:00']\n",
      "[5, 0.038940783590078354, 0.009489634074270725, '00:00']\n",
      "[5, 0.038940783590078354, 0.009489634074270725, '00:00']\n",
      "[6, 0.02939664199948311, 0.00814361497759819, '00:00']\n",
      "[6, 0.02939664199948311, 0.00814361497759819, '00:00']\n",
      "[7, 0.02284344844520092, 0.007791020907461643, '00:00']\n",
      "[7, 0.02284344844520092, 0.007791020907461643, '00:00']\n",
      "[8, 0.01848750188946724, 0.007660943549126387, '00:00']\n",
      "[8, 0.01848750188946724, 0.007660943549126387, '00:00']\n",
      "[9, 0.015672173351049423, 0.008005727082490921, '00:00']\n",
      "[9, 0.015672173351049423, 0.008005727082490921, '00:00']\n",
      "[10, 0.013342753052711487, 0.008338020183146, '00:00']\n",
      "[10, 0.013342753052711487, 0.008338020183146, '00:00']\n",
      "[11, 0.012818176299333572, 0.00834046769887209, '00:00']\n",
      "[11, 0.012818176299333572, 0.00834046769887209, '00:00']\n",
      "[12, 0.011220647022128105, 0.006228358950465918, '00:00']\n",
      "[12, 0.011220647022128105, 0.006228358950465918, '00:00']\n",
      "[13, 0.009568994864821434, 0.0060059260576963425, '00:00']\n",
      "[13, 0.009568994864821434, 0.0060059260576963425, '00:00']\n",
      "[14, 0.007865473628044128, 0.0016624690033495426, '00:00']\n",
      "[14, 0.007865473628044128, 0.0016624690033495426, '00:00']\n",
      "[15, 0.005905576515942812, 0.001102305599488318, '00:00']\n",
      "[15, 0.005905576515942812, 0.001102305599488318, '00:00']\n",
      "[16, 0.004823369439691305, 0.0011882521212100983, '00:00']\n",
      "[16, 0.004823369439691305, 0.0011882521212100983, '00:00']\n",
      "[17, 0.003623297205194831, 0.0005829631700180471, '00:00']\n",
      "[17, 0.003623297205194831, 0.0005829631700180471, '00:00']\n",
      "[18, 0.0026879727374762297, 0.00032815057784318924, '00:00']\n",
      "[18, 0.0026879727374762297, 0.00032815057784318924, '00:00']\n",
      "[19, 0.0020305307116359472, 0.0012939742300659418, '00:00']\n",
      "[19, 0.0020305307116359472, 0.0012939742300659418, '00:00']\n",
      "[20, 0.0018346133874729276, 0.0008870698511600494, '00:00']\n",
      "[20, 0.0018346133874729276, 0.0008870698511600494, '00:00']\n",
      "[21, 0.0014125811867415905, 0.00030040531419217587, '00:00']\n",
      "[21, 0.0014125811867415905, 0.00030040531419217587, '00:00']\n",
      "[22, 0.0010709569323807955, 0.00023557146778330207, '00:00']\n",
      "[22, 0.0010709569323807955, 0.00023557146778330207, '00:00']\n",
      "[23, 0.0008167088963091373, 0.0002862524415832013, '00:00']\n",
      "[23, 0.0008167088963091373, 0.0002862524415832013, '00:00']\n",
      "[24, 0.000655424315482378, 0.00020946739823557436, '00:00']\n",
      "[24, 0.000655424315482378, 0.00020946739823557436, '00:00']\n",
      "[25, 0.0005071815685369074, 0.00017480146198067814, '00:00']\n",
      "[25, 0.0005071815685369074, 0.00017480146198067814, '00:00']\n",
      "[26, 0.0003971429541707039, 0.00012871879152953625, '00:00']\n",
      "[26, 0.0003971429541707039, 0.00012871879152953625, '00:00']\n",
      "[27, 0.0003241411177441478, 0.00019897412857972085, '00:00']\n",
      "[27, 0.0003241411177441478, 0.00019897412857972085, '00:00']\n",
      "[28, 0.0002652285329531878, 0.00013381600729189813, '00:00']\n",
      "[28, 0.0002652285329531878, 0.00013381600729189813, '00:00']\n",
      "[29, 0.0002161649172194302, 0.00010014393046731129, '00:00']\n",
      "[29, 0.0002161649172194302, 0.00010014393046731129, '00:00']\n",
      "[30, 0.00017508494784124196, 7.027798710623756e-05, '00:00']\n",
      "[30, 0.00017508494784124196, 7.027798710623756e-05, '00:00']\n",
      "[31, 0.00014426923007704318, 7.63869538786821e-05, '00:00']\n",
      "[31, 0.00014426923007704318, 7.63869538786821e-05, '00:00']\n",
      "[32, 0.00011980008275713772, 6.494102854048833e-05, '00:00']\n",
      "[32, 0.00011980008275713772, 6.494102854048833e-05, '00:00']\n",
      "[33, 0.00010260035196552053, 7.468966214219108e-05, '00:00']\n",
      "[33, 0.00010260035196552053, 7.468966214219108e-05, '00:00']\n",
      "[34, 9.026681800605729e-05, 5.839580626343377e-05, '00:00']\n",
      "[34, 9.026681800605729e-05, 5.839580626343377e-05, '00:00']\n",
      "[35, 7.792194082867354e-05, 4.9815644160844386e-05, '00:00']\n",
      "[35, 7.792194082867354e-05, 4.9815644160844386e-05, '00:00']\n",
      "[36, 6.886848859721795e-05, 5.1590661314548925e-05, '00:00']\n",
      "[36, 6.886848859721795e-05, 5.1590661314548925e-05, '00:00']\n",
      "[37, 6.158817996038124e-05, 4.489932689466514e-05, '00:00']\n",
      "[37, 6.158817996038124e-05, 4.489932689466514e-05, '00:00']\n",
      "[38, 5.5389897170243785e-05, 4.4080228690290824e-05, '00:00']\n",
      "[38, 5.5389897170243785e-05, 4.4080228690290824e-05, '00:00']\n",
      "[39, 5.0362152251182124e-05, 4.1194572986569256e-05, '00:00']\n",
      "[39, 5.0362152251182124e-05, 4.1194572986569256e-05, '00:00']\n",
      "[40, 4.6675271732965484e-05, 4.094444739166647e-05, '00:00']\n",
      "[40, 4.6675271732965484e-05, 4.094444739166647e-05, '00:00']\n",
      "[41, 4.361446190159768e-05, 3.878404459101148e-05, '00:00']\n",
      "[41, 4.361446190159768e-05, 3.878404459101148e-05, '00:00']\n",
      "[42, 4.097331839147955e-05, 3.992255005869083e-05, '00:00']\n",
      "[42, 4.097331839147955e-05, 3.992255005869083e-05, '00:00']\n",
      "[43, 3.903713877662085e-05, 3.7933961721137166e-05, '00:00']\n",
      "[43, 3.903713877662085e-05, 3.7933961721137166e-05, '00:00']\n",
      "[44, 3.7233359762467444e-05, 3.682149326778017e-05, '00:00']\n",
      "[44, 3.7233359762467444e-05, 3.682149326778017e-05, '00:00']\n",
      "[45, 3.5748653317568824e-05, 3.568323882063851e-05, '00:00']\n",
      "[45, 3.5748653317568824e-05, 3.568323882063851e-05, '00:00']\n",
      "[46, 3.435086546232924e-05, 3.523774284985848e-05, '00:00']\n",
      "[46, 3.435086546232924e-05, 3.523774284985848e-05, '00:00']\n",
      "[47, 3.335057772346772e-05, 3.499021477182396e-05, '00:00']\n",
      "[47, 3.335057772346772e-05, 3.499021477182396e-05, '00:00']\n",
      "[48, 3.2631731301080436e-05, 3.49109286617022e-05, '00:00']\n",
      "[48, 3.2631731301080436e-05, 3.49109286617022e-05, '00:00']\n",
      "[49, 3.205823668395169e-05, 3.487742651486769e-05, '00:00']\n",
      "[49, 3.205823668395169e-05, 3.487742651486769e-05, '00:00']\n",
      "Training took 12.843643870999585 seconds\n"
     ]
    }
   ],
   "source": [
    "import time\n",
    "\n",
    "start = time.perf_counter() # Starts timer\n",
    "learn.fit_one_cycle(n_epoch=50, lr_max=lr_min)\n",
    "end = time.perf_counter() # Ends timer\n",
    "delta_t = end - start\n",
    "print('Training took', delta_t, 'seconds')"
   ]
  },
  {
   "cell_type": "markdown",
   "metadata": {},
   "source": [
    "Then we plot the loss as a function of batches and epochs to check if we reach a plateau."
   ]
  },
  {
   "cell_type": "code",
   "execution_count": 10,
   "metadata": {},
   "outputs": [
    {
     "data": {
      "image/png": "[encoded data removed]",
      "text/plain": "<Figure size 432x288 with 1 Axes>"
     },
     "metadata": {
      "needs_background": "light"
     },
     "output_type": "display_data"
    }
   ],
   "source": [
    "recorder.plot_loss(500)"
   ]
  },
  {
   "cell_type": "markdown",
   "metadata": {},
   "source": [
    "Then we evaluate the MSE on this network - it should be of the order of 0.001 or less if all has gone well...if it has not trained as well (note the pesky 0-mass peak above...) then it's going to be a bit higher."
   ]
  },
  {
   "cell_type": "code",
   "execution_count": 11,
   "metadata": {},
   "outputs": [
    {
     "data": {
      "text/plain": "(#1) [3.487742651486769e-05]"
     },
     "execution_count": 11,
     "metadata": {},
     "output_type": "execute_result"
    }
   ],
   "source": [
    "learn.validate()"
   ]
  },
  {
   "cell_type": "markdown",
   "metadata": {},
   "source": [
    "Let's plot all of this, with ratios (thanks to code by Erik Wallin)"
   ]
  },
  {
   "cell_type": "markdown",
   "metadata": {},
   "source": [
    "## Plotting the outputs of the network"
   ]
  },
  {
   "cell_type": "markdown",
   "metadata": {},
   "source": [
    "Lazy-save of our output files (they'll also be on screen)"
   ]
  },
  {
   "cell_type": "code",
   "execution_count": 12,
   "metadata": {},
   "outputs": [],
   "source": [
    "import os\n",
    "save_dir = \"plotOutput\"\n",
    "if not os.path.exists(save_dir):\n",
    "    os.makedirs(save_dir)"
   ]
  },
  {
   "cell_type": "markdown",
   "metadata": {},
   "source": [
    "A function in case we want to un-normalize and get back to physical quantities..."
   ]
  },
  {
   "cell_type": "code",
   "execution_count": 13,
   "metadata": {},
   "outputs": [],
   "source": [
    "def custom_unnormalize(data):\n",
    "    data_copy = data.copy()\n",
    "    data_copy['E1'] = np.power(10, data_copy['E1'] * 0.7 + 5.870722)\n",
    "    data_copy['pt1'] = np.power(10, data_copy['pt1'] * 0.6 + 5.734102)\n",
    "    data_copy['eta1'] = data_copy['eta1'] * 2.6\n",
    "    data_copy['phi1'] = data_copy['phi1'] * 3.14\n",
    "    return data_copy"
   ]
  },
  {
   "cell_type": "markdown",
   "metadata": {},
   "source": [
    "Make the histograms from the dataset..."
   ]
  },
  {
   "cell_type": "code",
   "execution_count": 14,
   "metadata": {},
   "outputs": [
    {
     "data": {
      "image/png": "[encoded data removed]",
      "text/plain": "<Figure size 432x288 with 1 Axes>"
     },
     "metadata": {
      "needs_background": "light"
     },
     "output_type": "display_data"
    },
    {
     "data": {
      "image/png": "[encoded data removed]",
      "text/plain": "<Figure size 432x288 with 1 Axes>"
     },
     "metadata": {
      "needs_background": "light"
     },
     "output_type": "display_data"
    },
    {
     "data": {
      "image/png": "[encoded data removed]",
      "text/plain": "<Figure size 432x288 with 1 Axes>"
     },
     "metadata": {
      "needs_background": "light"
     },
     "output_type": "display_data"
    },
    {
     "data": {
      "image/png": "[encoded data removed]",
      "text/plain": "<Figure size 432x288 with 1 Axes>"
     },
     "metadata": {
      "needs_background": "light"
     },
     "output_type": "display_data"
    }
   ],
   "source": [
    "import numpy as np\n",
    "\n",
    "plt.close('all')\n",
    "unit_list = ['[GeV]', '[rad]', '[rad]', '[GeV]']\n",
    "variable_list = [r'$p_T$', r'$\\eta$', r'$\\phi$', r'$E$']\n",
    "line_style = ['--', '-']\n",
    "colors = ['orange', 'c']\n",
    "markers = ['*', 's']\n",
    "\n",
    "model.to('cpu')\n",
    "\n",
    "save = False # Option to save figure\n",
    "\n",
    "# Histograms\n",
    "idxs = (0, 100000)  # Choose events to compare\n",
    "data = torch.tensor(test[idxs[0]:idxs[1]].values, dtype=torch.float)\n",
    "#data = torch.tensor(test[idxs[0]:idxs[1]].values, dtype=torch.float).double()\n",
    "pred = model(data)\n",
    "pred = pred.detach().numpy()\n",
    "data = data.detach().numpy()\n",
    "\n",
    "data_df = pd.DataFrame(data, columns=test.columns)\n",
    "pred_df = pd.DataFrame(pred, columns=test.columns)\n",
    "\n",
    "unnormalized_data_df = custom_unnormalize(data_df)\n",
    "unnormalized_pred_df = custom_unnormalize(pred_df)    \n",
    "    \n",
    "alph = 0.8\n",
    "n_bins = 200\n",
    "for kk in np.arange(4):\n",
    "    plt.figure()\n",
    "    n_hist_data, bin_edges, _ = plt.hist(data[:, kk], color=colors[1], label='Input', alpha=1, bins=n_bins)\n",
    "    n_hist_pred, _, _ = plt.hist(pred[:, kk], color=colors[0], label='Output', alpha=alph, bins=bin_edges)\n",
    "    plt.suptitle(test.columns[kk])\n",
    "    plt.xlabel(test.columns[kk])\n",
    "    plt.ylabel('Number of events')\n",
    "    # ms.sciy()\n",
    "    plt.yscale('log')\n",
    "    if save:\n",
    "        plt.savefig(os.path.join(save_dir,test.columns[kk]+'.png'))\n",
    "    plt.legend()"
   ]
  },
  {
   "cell_type": "code",
   "execution_count": 15,
   "metadata": {},
   "outputs": [],
   "source": [
    "def plot_unnormalize(data,pred):\n",
    "    fig, axis = plt.subplots(2, 2, figsize=(20,15))\n",
    "    axis = axis.ravel()\n",
    "    keys = data.keys()\n",
    "    for idx, ax in enumerate(axis):\n",
    "        ax.hist(data[keys[idx]], color=\"c\", label='data', alpha=1, bins=200)\n",
    "        ax.hist(pred[keys[idx]], color=\"orange\", label='predictions', alpha=0.8, bins=200)\n",
    "        ax.set_xlabel(str(keys[idx]))\n",
    "        ax.set_ylabel('Number of events')\n",
    "        ax.set_yscale('log')\n",
    "        ax.legend()\n",
    "    plt.subplots_adjust(wspace=0.3)\n",
    "    "
   ]
  },
  {
   "cell_type": "code",
   "execution_count": 16,
   "metadata": {},
   "outputs": [
    {
     "data": {
      "image/png": "[encoded data removed]",
      "text/plain": "<Figure size 1440x1080 with 4 Axes>"
     },
     "metadata": {
      "needs_background": "light"
     },
     "output_type": "display_data"
    }
   ],
   "source": [
    "plot_unnormalize(unnormalized_data_df, unnormalized_pred_df)"
   ]
  },
  {
   "cell_type": "code",
   "execution_count": 17,
   "metadata": {},
   "outputs": [
    {
     "name": "stderr",
     "output_type": "stream",
     "text": [
      "/home/rimijoker/miniconda3/envs/pytorch/lib/python3.7/site-packages/ipykernel_launcher.py:9: RuntimeWarning: divide by zero encountered in double_scalars\n",
      "  if __name__ == '__main__':\n"
     ]
    }
   ],
   "source": [
    "def getRatio(bin1,bin2):\n",
    "    bins = []\n",
    "    for b1,b2 in zip(bin1,bin2):\n",
    "        if b1==0 and b2==0:\n",
    "            bins.append(0.)\n",
    "        elif b2==0:\n",
    "            bins.append(None)\n",
    "        else:\n",
    "            bins.append((float(b2)-float(b1))/b1)\n",
    "    return bins   \n",
    "\n",
    "rat = getRatio(n_hist_data,n_hist_pred)\n",
    "#print(rat)"
   ]
  },
  {
   "cell_type": "code",
   "execution_count": null,
   "metadata": {},
   "outputs": [],
   "source": []
  }
 ],
 "metadata": {
  "kernelspec": {
   "display_name": "Python 3",
   "language": "python",
   "name": "python3"
  },
  "language_info": {
   "codemirror_mode": {
    "name": "ipython",
    "version": 3
   },
   "file_extension": ".py",
   "mimetype": "text/x-python",
   "name": "python",
   "nbconvert_exporter": "python",
   "pygments_lexer": "ipython3",
   "version": "3.7.9"
  }
 },
 "nbformat": 4,
 "nbformat_minor": 4
}