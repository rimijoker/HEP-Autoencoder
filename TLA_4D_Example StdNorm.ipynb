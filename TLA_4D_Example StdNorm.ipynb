{
 "cells": [
  {
   "cell_type": "markdown",
   "metadata": {},
   "source": [
    "In this notebook, we will run a ready-made network starting from some ATLAS data, which is already normalized. There is also an alternative to train the network from scratch.  "
   ]
  },
  {
   "cell_type": "markdown",
   "metadata": {},
   "source": [
    "## Look into the dataset"
   ]
  },
  {
   "cell_type": "markdown",
   "metadata": {},
   "source": [
    "First we need to make sure that Python 3.8 is used in the notebook. It is required in order to open this certain .pkl-file. "
   ]
  },
  {
   "cell_type": "code",
   "execution_count": 1,
   "metadata": {},
   "outputs": [
    {
     "data": {
      "text/plain": "'3.7.9 (default, Aug 31 2020, 12:42:55) \\n[GCC 7.3.0]'"
     },
     "execution_count": 1,
     "metadata": {},
     "output_type": "execute_result"
    }
   ],
   "source": [
    "import sys\n",
    "sys.version"
   ]
  },
  {
   "cell_type": "markdown",
   "metadata": {},
   "source": [
    "We take a pickle dataset, and open into Pandas (after importing pandas). Note that you have to change the paths to the directory where your processed files are. "
   ]
  },
  {
   "cell_type": "code",
   "execution_count": 2,
   "metadata": {},
   "outputs": [
    {
     "name": "stdout",
     "output_type": "stream",
     "text": [
      "Training sample:\n",
      "            E1       pt1      eta1      phi1\n",
      "5337  1.897219  0.567715 -1.648733  0.482799\n",
      "1994  0.016521 -1.077477  1.827353 -0.566898\n",
      "1345 -0.291737 -0.349817  0.983807  0.206499\n",
      "5063  0.821635  1.014189  0.985275 -0.971140\n",
      "5542  0.832228  1.042104 -0.985204  1.617680\n",
      "\n",
      "\n",
      "Testing sample:\n",
      "            E1       pt1      eta1      phi1\n",
      "1079 -0.633601 -1.470529 -1.783077 -1.687171\n",
      "3930  0.888678  1.672273 -0.706491 -0.725739\n",
      "5437  0.348725 -0.167166  1.342519  0.571174\n",
      "3492 -0.619405 -0.398526 -0.449922 -0.904088\n",
      "3702 -0.603715 -0.475699  0.719120 -1.426715\n",
      "\n",
      "\n",
      "The number of entries in the training data: 4341\n",
      "The number of entries in the validation data: 1861\n"
     ]
    }
   ],
   "source": [
    "import pandas as pd\n",
    "\n",
    "# Change these paths to point to where you have stored the datasets. \n",
    "train_path = './StdNorm/train.pkl'\n",
    "test_path = './StdNorm/test.pkl'\n",
    "\n",
    "# Reads the .pkl-files with Pandas\n",
    "train = pd.read_pickle(train_path)\n",
    "test = pd.read_pickle(test_path)\n",
    "\n",
    "# To get an idea of the order of magnitude we are going to see in the plots we show the first elements \n",
    "# in the samples:\n",
    "print('Training sample:')\n",
    "print(train.head())\n",
    "\n",
    "print('\\n')\n",
    "\n",
    "print('Testing sample:')\n",
    "print(test.head())\n",
    "\n",
    "print('\\n')\n",
    "\n",
    "print('The number of entries in the training data:', len(train))\n",
    "print('The number of entries in the validation data:', len(test))"
   ]
  },
  {
   "cell_type": "markdown",
   "metadata": {},
   "source": [
    "Now we plot the data using the matplotlib library. The units reflect the normalization, but it's the shape that we care about. "
   ]
  },
  {
   "cell_type": "code",
   "execution_count": 3,
   "metadata": {},
   "outputs": [
    {
     "data": {
      "image/png": "[encoded data removed]",
      "text/plain": "<Figure size 432x288 with 1 Axes>"
     },
     "metadata": {
      "needs_background": "light"
     },
     "output_type": "display_data"
    },
    {
     "data": {
      "image/png": "[encoded data removed]",
      "text/plain": "<Figure size 432x288 with 1 Axes>"
     },
     "metadata": {
      "needs_background": "light"
     },
     "output_type": "display_data"
    },
    {
     "data": {
      "image/png": "[encoded data removed]",
      "text/plain": "<Figure size 432x288 with 1 Axes>"
     },
     "metadata": {
      "needs_background": "light"
     },
     "output_type": "display_data"
    },
    {
     "data": {
      "image/png": "[encoded data removed]",
      "text/plain": "<Figure size 432x288 with 1 Axes>"
     },
     "metadata": {
      "needs_background": "light"
     },
     "output_type": "display_data"
    }
   ],
   "source": [
    "import matplotlib.pyplot as plt\n",
    "\n",
    "unit_list = ['[log(GeV)]', '[rad/3]', '[rad/3]', '[log(GeV)]']\n",
    "variable_list = [r'$p_T$', r'$\\eta$', r'$\\phi$', r'$m$']\n",
    "\n",
    "branches=[\"pt1\",\"eta1\",\"phi1\",\"E1\"]\n",
    "\n",
    "n_bins = 100\n",
    "\n",
    "for kk in range(0,4):\n",
    "    n_hist_data, bin_edges, _ = plt.hist(train[branches[kk]], color='gray', label='Input', alpha=1, bins=n_bins)\n",
    "    plt.xlabel(xlabel=variable_list[kk] + ' ' + unit_list[kk])\n",
    "    plt.ylabel('# of events')\n",
    "    #plt.savefig(\"fourmomentum_\"+branches[kk],dpi=300)\n",
    "    plt.show()"
   ]
  },
  {
   "cell_type": "markdown",
   "metadata": {},
   "source": [
    "## Setting up the network"
   ]
  },
  {
   "cell_type": "markdown",
   "metadata": {},
   "source": [
    "### Preparing the data"
   ]
  },
  {
   "cell_type": "markdown",
   "metadata": {},
   "source": [
    "Adding the two datasets as TensorDatasets to PyTorch (also loading all other classes we'll need later)"
   ]
  },
  {
   "cell_type": "code",
   "execution_count": 4,
   "metadata": {},
   "outputs": [],
   "source": [
    "import torch\n",
    "import torch.nn as nn\n",
    "import torch.optim as optim\n",
    "import torch.utils.data\n",
    "from torch.autograd import Variable\n",
    "\n",
    "from torch.utils.data import TensorDataset\n",
    "from torch.utils.data import DataLoader\n",
    "\n",
    "from fastai import learner\n",
    "from fastai.data import core\n",
    "\n",
    "torch.manual_seed(1)\n",
    "\n",
    "train_x = train\n",
    "test_x = test\n",
    "train_y = train_x  # y = x since we are building an autoencoder\n",
    "test_y = test_x\n",
    "\n",
    "# Constructs a tensor object of the data and wraps them in a TensorDataset object.\n",
    "train_ds = TensorDataset(torch.tensor(train_x.values, dtype=torch.float), torch.tensor(train_y.values, dtype=torch.float))\n",
    "valid_ds = TensorDataset(torch.tensor(test_x.values, dtype=torch.float), torch.tensor(test_y.values, dtype=torch.float))"
   ]
  },
  {
   "cell_type": "markdown",
   "metadata": {},
   "source": [
    "We now set things up to load the data, and we use a batch size that was optimized by previous students...note also that this is fastai v2, migration thanks to Jessica Lastow."
   ]
  },
  {
   "cell_type": "code",
   "execution_count": 5,
   "metadata": {},
   "outputs": [],
   "source": [
    "bs = 256\n",
    "\n",
    "# Converts the TensorDataset into a DataLoader object and combines into one DataLoaders object (a basic wrapper\n",
    "# around several DataLoader objects). \n",
    "train_dl = DataLoader(train_ds, batch_size=bs, shuffle=True)\n",
    "valid_dl = DataLoader(valid_ds, batch_size=bs * 2)\n",
    "dls = core.DataLoaders(train_dl, valid_dl)"
   ]
  },
  {
   "cell_type": "markdown",
   "metadata": {},
   "source": [
    "### Preparing the network"
   ]
  },
  {
   "cell_type": "markdown",
   "metadata": {},
   "source": [
    "Here we have an example network. Details aren't too important, as long as they match what was already trained for us...in this case we have a LeakyReLU, tanh activation function, and a number of layers that goes from 4 to 200 to 20 to 3 (number of features in the hidden layer that we pick for testing compression) and then back all the way to 4. "
   ]
  },
  {
   "cell_type": "code",
   "execution_count": 6,
   "metadata": {},
   "outputs": [
    {
     "data": {
      "text/plain": "AE_3D_200_LeakyReLU(\n  (en1): Linear(in_features=4, out_features=200, bias=True)\n  (en2): Linear(in_features=200, out_features=200, bias=True)\n  (en3): Linear(in_features=200, out_features=20, bias=True)\n  (en4): Linear(in_features=20, out_features=3, bias=True)\n  (de1): Linear(in_features=3, out_features=20, bias=True)\n  (de2): Linear(in_features=20, out_features=200, bias=True)\n  (de3): Linear(in_features=200, out_features=200, bias=True)\n  (de4): Linear(in_features=200, out_features=4, bias=True)\n  (tanh): Tanh()\n)"
     },
     "execution_count": 6,
     "metadata": {},
     "output_type": "execute_result"
    }
   ],
   "source": [
    "class AE_3D_200_LeakyReLU(nn.Module):\n",
    "    def __init__(self, n_features=4):\n",
    "        super(AE_3D_200_LeakyReLU, self).__init__()\n",
    "        self.en1 = nn.Linear(n_features, 200)\n",
    "        self.en2 = nn.Linear(200, 200)\n",
    "        self.en3 = nn.Linear(200, 20)\n",
    "        self.en4 = nn.Linear(20, 3)\n",
    "        self.de1 = nn.Linear(3, 20)\n",
    "        self.de2 = nn.Linear(20, 200)\n",
    "        self.de3 = nn.Linear(200, 200)\n",
    "        self.de4 = nn.Linear(200, n_features)\n",
    "        self.tanh = nn.Tanh()\n",
    "\n",
    "    def encode(self, x):\n",
    "        return self.en4(self.tanh(self.en3(self.tanh(self.en2(self.tanh(self.en1(x)))))))\n",
    "\n",
    "    def decode(self, x):\n",
    "        return self.de4(self.tanh(self.de3(self.tanh(self.de2(self.tanh(self.de1(self.tanh(x))))))))\n",
    "\n",
    "    def forward(self, x):\n",
    "        z = self.encode(x)\n",
    "        return self.decode(z)\n",
    "\n",
    "    def describe(self):\n",
    "        return 'in-200-200-20-3-20-200-200-out'\n",
    "\n",
    "#model = AE_3D_200_LeakyReLU().double()\n",
    "model = AE_3D_200_LeakyReLU()\n",
    "model.to('cpu')"
   ]
  },
  {
   "cell_type": "markdown",
   "metadata": {},
   "source": [
    "We now have to pick a loss function - MSE loss is appropriate for a compression autoencoder since it reflects the [(input-output)/input] physical quantity that we want to minimize. "
   ]
  },
  {
   "cell_type": "code",
   "execution_count": 7,
   "metadata": {},
   "outputs": [],
   "source": [
    "from fastai.metrics import mse\n",
    "\n",
    "loss_func = mse\n",
    "\n",
    "#bn_wd = False  # Don't use weight decay for batchnorm layers\n",
    "#true_wd = True  # weight decay will be used for all optimizers\n",
    "wd = 1e-6\n",
    "\n",
    "recorder = learner.Recorder()\n",
    "learn = learner.Learner(dls, model=model, wd=wd, loss_func=loss_func, cbs=recorder)\n",
    "#was: learn = basic_train.Learner(data=db, model=model, loss_func=loss_func, wd=wd, callback_fns=ActivationStats, bn_wd=bn_wd, true_wd=true_wd)"
   ]
  },
  {
   "cell_type": "markdown",
   "metadata": {},
   "source": [
    "## Alternative 2: Training a new network"
   ]
  },
  {
   "cell_type": "markdown",
   "metadata": {},
   "source": [
    "Instead of using a pre-trained network, an alternative is to train a new network and use that instead. "
   ]
  },
  {
   "cell_type": "markdown",
   "metadata": {},
   "source": [
    "First, we want to find the best learning rate. The learning rate is a hyper-paramater that sets how much the weights of the network will change each step with respect to the loss gradient.\n",
    "\n",
    "Then we plot the loss versus the learning rates. We're interested in finding a good order of magnitude of learning rate, so we plot with a log scale.\n",
    "\n",
    "A good value for the learning rates is then either:\n",
    "- one tenth of the minimum before the divergence\n",
    "- when the slope is the steepest"
   ]
  },
  {
   "cell_type": "code",
   "execution_count": 8,
   "metadata": {},
   "outputs": [
    {
     "name": "stdout",
     "output_type": "stream",
     "text": [
      "Learning rate with the minimum loss: 0.004786301031708717\n",
      "Learning rate with the steepest gradient: 0.001737800776027143\n"
     ]
    },
    {
     "data": {
      "image/png": "[encoded data removed]",
      "text/plain": "<Figure size 432x288 with 1 Axes>"
     },
     "metadata": {
      "needs_background": "light"
     },
     "output_type": "display_data"
    }
   ],
   "source": [
    "from fastai.callback import schedule\n",
    "\n",
    "lr_min, lr_steep = learn.lr_find()\n",
    "\n",
    "print('Learning rate with the minimum loss:', lr_min)\n",
    "print('Learning rate with the steepest gradient:', lr_steep)"
   ]
  },
  {
   "cell_type": "markdown",
   "metadata": {},
   "source": [
    "Now we want to run the training!\n",
    "\n",
    "User-chosen variables:\n",
    "- n_epoch: The number of epochs, i.e how many times the to run through all of the training data once (i.e the 1266046 entries, see cell 2)\n",
    "- lr: The learning rate. Either choose lr_min, lr_steep from above or set your own.\n"
   ]
  },
  {
   "cell_type": "code",
   "execution_count": 9,
   "metadata": {},
   "outputs": [
    {
     "name": "stdout",
     "output_type": "stream",
     "text": [
      "[0, 0.9409468770027161, 0.8286068439483643, '00:00']\n",
      "[0, 0.9409468770027161, 0.8286068439483643, '00:00']\n",
      "[1, 0.7703511118888855, 0.4677927494049072, '00:00']\n",
      "[1, 0.7703511118888855, 0.4677927494049072, '00:00']\n",
      "[2, 0.5957806706428528, 0.3129628896713257, '00:00']\n",
      "[2, 0.5957806706428528, 0.3129628896713257, '00:00']\n",
      "[3, 0.458310067653656, 0.229399636387825, '00:00']\n",
      "[3, 0.458310067653656, 0.229399636387825, '00:00']\n",
      "[4, 0.36669960618019104, 0.1834726333618164, '00:00']\n",
      "[4, 0.36669960618019104, 0.1834726333618164, '00:00']\n",
      "[5, 0.30027511715888977, 0.14104430377483368, '00:00']\n",
      "[5, 0.30027511715888977, 0.14104430377483368, '00:00']\n",
      "[6, 0.24524927139282227, 0.10450440645217896, '00:00']\n",
      "[6, 0.24524927139282227, 0.10450440645217896, '00:00']\n",
      "[7, 0.20112952589988708, 0.08702016621828079, '00:00']\n",
      "[7, 0.20112952589988708, 0.08702016621828079, '00:00']\n",
      "[8, 0.16515539586544037, 0.06032085791230202, '00:00']\n",
      "[8, 0.16515539586544037, 0.06032085791230202, '00:00']\n",
      "[9, 0.13065855205059052, 0.02475692145526409, '00:00']\n",
      "[9, 0.13065855205059052, 0.02475692145526409, '00:00']\n",
      "[10, 0.09883581101894379, 0.039245542138814926, '00:00']\n",
      "[10, 0.09883581101894379, 0.039245542138814926, '00:00']\n",
      "[11, 0.07871566712856293, 0.01364691462367773, '00:00']\n",
      "[11, 0.07871566712856293, 0.01364691462367773, '00:00']\n",
      "[12, 0.059800997376441956, 0.011866400018334389, '00:00']\n",
      "[12, 0.059800997376441956, 0.011866400018334389, '00:00']\n",
      "[13, 0.046030063182115555, 0.009035425260663033, '00:00']\n",
      "[13, 0.046030063182115555, 0.009035425260663033, '00:00']\n",
      "[14, 0.04006352648139, 0.016163067892193794, '00:00']\n",
      "[14, 0.04006352648139, 0.016163067892193794, '00:00']\n",
      "[15, 0.033603206276893616, 0.018583152443170547, '00:00']\n",
      "[15, 0.033603206276893616, 0.018583152443170547, '00:00']\n",
      "[16, 0.027303028851747513, 0.008353006094694138, '00:00']\n",
      "[16, 0.027303028851747513, 0.008353006094694138, '00:00']\n",
      "[17, 0.02138208970427513, 0.006933888420462608, '00:00']\n",
      "[17, 0.02138208970427513, 0.006933888420462608, '00:00']\n",
      "[18, 0.02937164343893528, 0.01760985516011715, '00:00']\n",
      "[18, 0.02937164343893528, 0.01760985516011715, '00:00']\n",
      "[19, 0.024740708991885185, 0.006848428398370743, '00:00']\n",
      "[19, 0.024740708991885185, 0.006848428398370743, '00:00']\n",
      "[20, 0.0202237106859684, 0.005596646573394537, '00:00']\n",
      "[20, 0.0202237106859684, 0.005596646573394537, '00:00']\n",
      "[21, 0.01671258546411991, 0.006721298210322857, '00:00']\n",
      "[21, 0.01671258546411991, 0.006721298210322857, '00:00']\n",
      "[22, 0.014787924475967884, 0.006888975389301777, '00:00']\n",
      "[22, 0.014787924475967884, 0.006888975389301777, '00:00']\n",
      "[23, 0.014688462018966675, 0.011569585651159286, '00:00']\n",
      "[23, 0.014688462018966675, 0.011569585651159286, '00:00']\n",
      "[24, 0.013090213760733604, 0.0033652835991233587, '00:00']\n",
      "[24, 0.013090213760733604, 0.0033652835991233587, '00:00']\n",
      "[25, 0.012725986540317535, 0.012265538796782494, '00:00']\n",
      "[25, 0.012725986540317535, 0.012265538796782494, '00:00']\n",
      "[26, 0.012151450850069523, 0.007541981991380453, '00:00']\n",
      "[26, 0.012151450850069523, 0.007541981991380453, '00:00']\n",
      "[27, 0.01037819404155016, 0.00462293392047286, '00:00']\n",
      "[27, 0.01037819404155016, 0.00462293392047286, '00:00']\n",
      "[28, 0.010190519504249096, 0.010135775431990623, '00:00']\n",
      "[28, 0.010190519504249096, 0.010135775431990623, '00:00']\n",
      "[29, 0.009067553095519543, 0.006112462840974331, '00:00']\n",
      "[29, 0.009067553095519543, 0.006112462840974331, '00:00']\n",
      "[30, 0.0076321084052324295, 0.013732142746448517, '00:00']\n",
      "[30, 0.0076321084052324295, 0.013732142746448517, '00:00']\n",
      "[31, 0.0076002078130841255, 0.0034924971405416727, '00:00']\n",
      "[31, 0.0076002078130841255, 0.0034924971405416727, '00:00']\n",
      "[32, 0.00694124773144722, 0.002551171462982893, '00:00']\n",
      "[32, 0.00694124773144722, 0.002551171462982893, '00:00']\n",
      "[33, 0.0059045753441751, 0.01060435175895691, '00:00']\n",
      "[33, 0.0059045753441751, 0.01060435175895691, '00:00']\n",
      "[34, 0.007760998327285051, 0.005156784318387508, '00:00']\n",
      "[34, 0.007760998327285051, 0.005156784318387508, '00:00']\n",
      "[35, 0.006864733062684536, 0.0062872134149074554, '00:00']\n",
      "[35, 0.006864733062684536, 0.0062872134149074554, '00:00']\n",
      "[36, 0.006049266085028648, 0.006922177970409393, '00:00']\n",
      "[36, 0.006049266085028648, 0.006922177970409393, '00:00']\n",
      "[37, 0.006294832099229097, 0.00334687577560544, '00:00']\n",
      "[37, 0.006294832099229097, 0.00334687577560544, '00:00']\n",
      "[38, 0.005252846982330084, 0.0018683403031900525, '00:00']\n",
      "[38, 0.005252846982330084, 0.0018683403031900525, '00:00']\n",
      "[39, 0.004721259698271751, 0.004466325975954533, '00:00']\n",
      "[39, 0.004721259698271751, 0.004466325975954533, '00:00']\n",
      "[40, 0.004171622917056084, 0.0037044400814920664, '00:00']\n",
      "[40, 0.004171622917056084, 0.0037044400814920664, '00:00']\n",
      "[41, 0.003808551002293825, 0.003198054153472185, '00:00']\n",
      "[41, 0.003808551002293825, 0.003198054153472185, '00:00']\n",
      "[42, 0.00461992435157299, 0.007693238090723753, '00:00']\n",
      "[42, 0.00461992435157299, 0.007693238090723753, '00:00']\n",
      "[43, 0.005277796648442745, 0.003657860681414604, '00:00']\n",
      "[43, 0.005277796648442745, 0.003657860681414604, '00:00']\n",
      "[44, 0.004424453247338533, 0.0015223792288452387, '00:00']\n",
      "[44, 0.004424453247338533, 0.0015223792288452387, '00:00']\n",
      "[45, 0.003516061697155237, 0.0012475389521569014, '00:00']\n",
      "[45, 0.003516061697155237, 0.0012475389521569014, '00:00']\n",
      "[46, 0.0031484810169786215, 0.002877014223486185, '00:00']\n",
      "[46, 0.0031484810169786215, 0.002877014223486185, '00:00']\n",
      "[47, 0.00314051634632051, 0.003028829349204898, '00:00']\n",
      "[47, 0.00314051634632051, 0.003028829349204898, '00:00']\n",
      "[48, 0.002886071801185608, 0.002159313065931201, '00:00']\n",
      "[48, 0.002886071801185608, 0.002159313065931201, '00:00']\n",
      "[49, 0.002620323095470667, 0.0025740170385688543, '00:00']\n",
      "[49, 0.002620323095470667, 0.0025740170385688543, '00:00']\n",
      "[50, 0.0022285908926278353, 0.0008838726207613945, '00:00']\n",
      "[50, 0.0022285908926278353, 0.0008838726207613945, '00:00']\n",
      "[51, 0.0017906633438542485, 0.0008901207474991679, '00:00']\n",
      "[51, 0.0017906633438542485, 0.0008901207474991679, '00:00']\n",
      "[52, 0.0014715695288032293, 0.0007578894146718085, '00:00']\n",
      "[52, 0.0014715695288032293, 0.0007578894146718085, '00:00']\n",
      "[53, 0.001207671477459371, 0.0008159829885698855, '00:00']\n",
      "[53, 0.001207671477459371, 0.0008159829885698855, '00:00']\n",
      "[54, 0.001072029466740787, 0.0011287796078249812, '00:00']\n",
      "[54, 0.001072029466740787, 0.0011287796078249812, '00:00']\n",
      "[55, 0.0009151758858934045, 0.0006092499243095517, '00:00']\n",
      "[55, 0.0009151758858934045, 0.0006092499243095517, '00:00']\n",
      "[56, 0.0007969774305820465, 0.0005751080461777747, '00:00']\n",
      "[56, 0.0007969774305820465, 0.0005751080461777747, '00:00']\n",
      "[57, 0.0006919176666997373, 0.0005159432184882462, '00:00']\n",
      "[57, 0.0006919176666997373, 0.0005159432184882462, '00:00']\n",
      "[58, 0.0006068203947506845, 0.00047644469304941595, '00:00']\n",
      "[58, 0.0006068203947506845, 0.00047644469304941595, '00:00']\n",
      "[59, 0.0005416438216343522, 0.000577090831939131, '00:00']\n",
      "[59, 0.0005416438216343522, 0.000577090831939131, '00:00']\n",
      "[60, 0.0004977186908945441, 0.0005649601807817817, '00:00']\n",
      "[60, 0.0004977186908945441, 0.0005649601807817817, '00:00']\n",
      "[61, 0.00046246469719335437, 0.0005294396542012691, '00:00']\n",
      "[61, 0.00046246469719335437, 0.0005294396542012691, '00:00']\n",
      "[62, 0.0004386976652313024, 0.0004521547816693783, '00:00']\n",
      "[62, 0.0004386976652313024, 0.0004521547816693783, '00:00']\n",
      "[63, 0.0003925700730178505, 0.0004389409732539207, '00:00']\n",
      "[63, 0.0003925700730178505, 0.0004389409732539207, '00:00']\n",
      "[64, 0.00035857249167747796, 0.00041622764547355473, '00:00']\n",
      "[64, 0.00035857249167747796, 0.00041622764547355473, '00:00']\n",
      "[65, 0.00032296209246851504, 0.00036908400943502784, '00:00']\n",
      "[65, 0.00032296209246851504, 0.00036908400943502784, '00:00']\n",
      "[66, 0.000290947180474177, 0.00038196551031433046, '00:00']\n",
      "[66, 0.000290947180474177, 0.00038196551031433046, '00:00']\n",
      "[67, 0.0002680144680198282, 0.00035835150629282, '00:00']\n",
      "[67, 0.0002680144680198282, 0.00035835150629282, '00:00']\n",
      "[68, 0.0002424648409942165, 0.0003048615180887282, '00:00']\n",
      "[68, 0.0002424648409942165, 0.0003048615180887282, '00:00']\n",
      "[69, 0.0002234836865682155, 0.00030679660267196596, '00:00']\n",
      "[69, 0.0002234836865682155, 0.00030679660267196596, '00:00']\n",
      "[70, 0.00020558042160701007, 0.0003012653614860028, '00:00']\n",
      "[70, 0.00020558042160701007, 0.0003012653614860028, '00:00']\n",
      "[71, 0.00018897601694334298, 0.00028477064915932715, '00:00']\n",
      "[71, 0.00018897601694334298, 0.00028477064915932715, '00:00']\n",
      "[72, 0.00017448942526243627, 0.00026764452923089266, '00:00']\n",
      "[72, 0.00017448942526243627, 0.00026764452923089266, '00:00']\n",
      "[73, 0.00016096344916149974, 0.0002651813847478479, '00:00']\n",
      "[73, 0.00016096344916149974, 0.0002651813847478479, '00:00']\n",
      "[74, 0.00014999142149463296, 0.0002594863181002438, '00:00']\n",
      "[74, 0.00014999142149463296, 0.0002594863181002438, '00:00']\n",
      "[75, 0.0001404015492880717, 0.0002526045427657664, '00:00']\n",
      "[75, 0.0001404015492880717, 0.0002526045427657664, '00:00']\n",
      "[76, 0.00013178010703995824, 0.0002459583920426667, '00:00']\n",
      "[76, 0.00013178010703995824, 0.0002459583920426667, '00:00']\n",
      "[77, 0.00012482974852900952, 0.00024236160970758647, '00:00']\n",
      "[77, 0.00012482974852900952, 0.00024236160970758647, '00:00']\n",
      "[78, 0.0001195268559968099, 0.00024152167316060513, '00:00']\n",
      "[78, 0.0001195268559968099, 0.00024152167316060513, '00:00']\n",
      "[79, 0.00011480107059469447, 0.00023968337336555123, '00:00']\n",
      "[79, 0.00011480107059469447, 0.00023968337336555123, '00:00']\n",
      "[80, 0.0001117226347560063, 0.00023809012782294303, '00:00']\n",
      "[80, 0.0001117226347560063, 0.00023809012782294303, '00:00']\n",
      "[81, 0.0001092011880245991, 0.00023727731604594737, '00:00']\n",
      "[81, 0.0001092011880245991, 0.00023727731604594737, '00:00']\n",
      "[82, 0.00010651030606823042, 0.00023613522353116423, '00:00']\n",
      "[82, 0.00010651030606823042, 0.00023613522353116423, '00:00']\n",
      "[83, 0.00010465889499755576, 0.00023570390476379544, '00:00']\n",
      "[83, 0.00010465889499755576, 0.00023570390476379544, '00:00']\n",
      "[84, 0.00010347068746341392, 0.0002356933691771701, '00:00']\n",
      "[84, 0.00010347068746341392, 0.0002356933691771701, '00:00']\n",
      "Training took 21.679686446999767 seconds\n"
     ]
    }
   ],
   "source": [
    "import time\n",
    "\n",
    "start = time.perf_counter() # Starts timer\n",
    "learn.fit_one_cycle(n_epoch=85, lr_max=lr_min)\n",
    "end = time.perf_counter() # Ends timer\n",
    "delta_t = end - start\n",
    "print('Training took', delta_t, 'seconds')"
   ]
  },
  {
   "cell_type": "markdown",
   "metadata": {},
   "source": [
    "Then we plot the loss as a function of batches and epochs to check if we reach a plateau."
   ]
  },
  {
   "cell_type": "code",
   "execution_count": 10,
   "metadata": {},
   "outputs": [
    {
     "data": {
      "image/png": "[encoded data removed]",
      "text/plain": "<Figure size 432x288 with 1 Axes>"
     },
     "metadata": {
      "needs_background": "light"
     },
     "output_type": "display_data"
    }
   ],
   "source": [
    "recorder.plot_loss(1000)"
   ]
  },
  {
   "cell_type": "markdown",
   "metadata": {},
   "source": [
    "Then we evaluate the MSE on this network - it should be of the order of 0.001 or less if all has gone well...if it has not trained as well (note the pesky 0-mass peak above...) then it's going to be a bit higher."
   ]
  },
  {
   "cell_type": "code",
   "execution_count": 11,
   "metadata": {},
   "outputs": [
    {
     "data": {
      "text/plain": "(#1) [0.0002356933691771701]"
     },
     "execution_count": 11,
     "metadata": {},
     "output_type": "execute_result"
    }
   ],
   "source": [
    "learn.validate()"
   ]
  },
  {
   "cell_type": "markdown",
   "metadata": {},
   "source": [
    "Let's plot all of this, with ratios (thanks to code by Erik Wallin)"
   ]
  },
  {
   "cell_type": "markdown",
   "metadata": {},
   "source": [
    "## Plotting the outputs of the network"
   ]
  },
  {
   "cell_type": "markdown",
   "metadata": {},
   "source": [
    "Lazy-save of our output files (they'll also be on screen)"
   ]
  },
  {
   "cell_type": "code",
   "execution_count": 12,
   "metadata": {},
   "outputs": [],
   "source": [
    "import os\n",
    "save_dir = \"plotOutput\"\n",
    "if not os.path.exists(save_dir):\n",
    "    os.makedirs(save_dir)"
   ]
  },
  {
   "cell_type": "markdown",
   "metadata": {},
   "source": [
    "A function in case we want to un-normalize and get back to physical quantities..."
   ]
  },
  {
   "cell_type": "code",
   "execution_count": 13,
   "metadata": {},
   "outputs": [],
   "source": [
    "def standard_unnormalize_4D(data):\n",
    "    data_copy = data.copy()\n",
    "    data_copy['E1'] = (data_copy['E1'] * 430473.147784 ) + 832868.093196\n",
    "    data_copy['pt1'] = (data_copy['pt1'] * 249542.292299 ) + 589437.055788\n",
    "    data_copy['eta1'] = (data_copy['eta1'] * 0.882507 ) + 0.003228\n",
    "    data_copy['phi1'] = (data_copy['phi1'] * 1.797267 ) + 0.004107\n",
    "    return data_copy"
   ]
  },
  {
   "cell_type": "markdown",
   "metadata": {},
   "source": [
    "Make the histograms from the dataset..."
   ]
  },
  {
   "cell_type": "code",
   "execution_count": 14,
   "metadata": {},
   "outputs": [
    {
     "data": {
      "image/png": "[encoded data removed]",
      "text/plain": "<Figure size 432x288 with 1 Axes>"
     },
     "metadata": {
      "needs_background": "light"
     },
     "output_type": "display_data"
    },
    {
     "data": {
      "image/png": "[encoded data removed]",
      "text/plain": "<Figure size 432x288 with 1 Axes>"
     },
     "metadata": {
      "needs_background": "light"
     },
     "output_type": "display_data"
    },
    {
     "data": {
      "image/png": "[encoded data removed]",
      "text/plain": "<Figure size 432x288 with 1 Axes>"
     },
     "metadata": {
      "needs_background": "light"
     },
     "output_type": "display_data"
    },
    {
     "data": {
      "image/png": "[encoded data removed]",
      "text/plain": "<Figure size 432x288 with 1 Axes>"
     },
     "metadata": {
      "needs_background": "light"
     },
     "output_type": "display_data"
    }
   ],
   "source": [
    "import numpy as np\n",
    "\n",
    "plt.close('all')\n",
    "unit_list = ['[GeV]', '[rad]', '[rad]', '[GeV]']\n",
    "variable_list = [r'$p_T$', r'$\\eta$', r'$\\phi$', r'$E$']\n",
    "line_style = ['--', '-']\n",
    "colors = ['orange', 'c']\n",
    "markers = ['*', 's']\n",
    "\n",
    "model.to('cpu')\n",
    "\n",
    "save = False # Option to save figure\n",
    "\n",
    "# Histograms\n",
    "idxs = (0, 100000)  # Choose events to compare\n",
    "data = torch.tensor(test[idxs[0]:idxs[1]].values, dtype=torch.float)\n",
    "#data = torch.tensor(test[idxs[0]:idxs[1]].values, dtype=torch.float).double()\n",
    "pred = model(data)\n",
    "pred = pred.detach().numpy()\n",
    "data = data.detach().numpy()\n",
    "\n",
    "data_df = pd.DataFrame(data, columns=test.columns)\n",
    "pred_df = pd.DataFrame(pred, columns=test.columns)\n",
    "\n",
    "unnormalized_data_df = standard_unnormalize_4D(data_df)\n",
    "unnormalized_pred_df = standard_unnormalize_4D(pred_df)    \n",
    "    \n",
    "alph = 0.8\n",
    "n_bins = 200\n",
    "for kk in np.arange(4):\n",
    "    plt.figure()\n",
    "    n_hist_data, bin_edges, _ = plt.hist(data[:, kk], color=colors[1], label='Input', alpha=1, bins=n_bins)\n",
    "    n_hist_pred, _, _ = plt.hist(pred[:, kk], color=colors[0], label='Output', alpha=alph, bins=bin_edges)\n",
    "    plt.suptitle(test.columns[kk])\n",
    "    plt.xlabel(test.columns[kk])\n",
    "    plt.ylabel('Number of events')\n",
    "    # ms.sciy()\n",
    "    plt.yscale('log')\n",
    "    if save:\n",
    "        plt.savefig(os.path.join(save_dir,test.columns[kk]+'.png'))\n",
    "    plt.legend()"
   ]
  },
  {
   "cell_type": "code",
   "execution_count": 15,
   "metadata": {},
   "outputs": [],
   "source": [
    "def plot_unnormalize(data,pred):\n",
    "    fig, axis = plt.subplots(2, 2, figsize=(20,15))\n",
    "    axis = axis.ravel()\n",
    "    keys = data.keys()\n",
    "    for idx, ax in enumerate(axis):\n",
    "        ax.hist(data[keys[idx]], color=\"c\", label='data', alpha=1, bins=200)\n",
    "        ax.hist(pred[keys[idx]], color=\"orange\", label='predictions', alpha=0.8, bins=200)\n",
    "        ax.set_xlabel(str(keys[idx]))\n",
    "        ax.set_ylabel('Number of events')\n",
    "        ax.set_yscale('log')\n",
    "        ax.legend()\n",
    "    plt.subplots_adjust(wspace=0.3)\n",
    "    "
   ]
  },
  {
   "cell_type": "code",
   "execution_count": 16,
   "metadata": {},
   "outputs": [
    {
     "data": {
      "image/png": "[encoded data removed]",
      "text/plain": "<Figure size 1440x1080 with 4 Axes>"
     },
     "metadata": {
      "needs_background": "light"
     },
     "output_type": "display_data"
    }
   ],
   "source": [
    "plot_unnormalize(unnormalized_data_df, unnormalized_pred_df)"
   ]
  },
  {
   "cell_type": "code",
   "execution_count": 17,
   "metadata": {},
   "outputs": [
    {
     "name": "stderr",
     "output_type": "stream",
     "text": [
      "/home/rimijoker/miniconda3/envs/pytorch/lib/python3.7/site-packages/ipykernel_launcher.py:9: RuntimeWarning: divide by zero encountered in double_scalars\n",
      "  if __name__ == '__main__':\n"
     ]
    }
   ],
   "source": [
    "def getRatio(bin1,bin2):\n",
    "    bins = []\n",
    "    for b1,b2 in zip(bin1,bin2):\n",
    "        if b1==0 and b2==0:\n",
    "            bins.append(0.)\n",
    "        elif b2==0:\n",
    "            bins.append(None)\n",
    "        else:\n",
    "            bins.append((float(b2)-float(b1))/b1)\n",
    "    return bins   \n",
    "\n",
    "rat = getRatio(n_hist_data,n_hist_pred)\n",
    "#print(rat)"
   ]
  },
  {
   "cell_type": "code",
   "execution_count": null,
   "metadata": {},
   "outputs": [],
   "source": []
  }
 ],
 "metadata": {
  "kernelspec": {
   "display_name": "Python 3",
   "language": "python",
   "name": "python3"
  },
  "language_info": {
   "codemirror_mode": {
    "name": "ipython",
    "version": 3
   },
   "file_extension": ".py",
   "mimetype": "text/x-python",
   "name": "python",
   "nbconvert_exporter": "python",
   "pygments_lexer": "ipython3",
   "version": "3.7.9"
  }
 },
 "nbformat": 4,
 "nbformat_minor": 4
}