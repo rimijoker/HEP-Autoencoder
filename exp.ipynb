{
 "cells": [
  {
   "cell_type": "markdown",
   "metadata": {},
   "source": [
    "In this notebook, we will normalize and split some ATLAS data into training dataset and validation dataset."
   ]
  },
  {
   "cell_type": "code",
   "execution_count": 1,
   "metadata": {},
   "outputs": [
    {
     "data": {
      "text/plain": [
       "'3.7.9 (default, Aug 31 2020, 12:42:55) \\n[GCC 7.3.0]'"
      ]
     },
     "execution_count": 1,
     "metadata": {},
     "output_type": "execute_result"
    }
   ],
   "source": [
    "import sys\n",
    "sys.version"
   ]
  },
  {
   "cell_type": "markdown",
   "metadata": {},
   "source": [
    "We will import all the required libraries and set the data path."
   ]
  },
  {
   "cell_type": "code",
   "execution_count": 2,
   "metadata": {},
   "outputs": [],
   "source": [
    "import numpy as np\n",
    "import pandas as pd\n",
    "import matplotlib.pyplot as plt\n",
    "from sklearn.model_selection import train_test_split\n",
    "\n",
    "path_data = \"monojet_Zp2000.0_DM_50.0_chan3.csv\""
   ]
  },
  {
   "cell_type": "markdown",
   "metadata": {},
   "source": [
    "We will read the dataset using two seperators \",\" & \";\" and then read the columns in range 5 to 9 as these columns correspond to \"obj1\", \"E1\", \"pt1\", \"eta1\" & \"phi1\" .\n",
    "\n",
    "Then we will take a look at the last 5 smaples using df.tail()"
   ]
  },
  {
   "cell_type": "code",
   "execution_count": 3,
   "metadata": {
    "tags": []
   },
   "outputs": [
    {
     "name": "stdout",
     "output_type": "stream",
     "text": [
      "Data Sample:\n"
     ]
    },
    {
     "data": {
      "text/html": [
       "<div>\n",
       "<style scoped>\n",
       "    .dataframe tbody tr th:only-of-type {\n",
       "        vertical-align: middle;\n",
       "    }\n",
       "\n",
       "    .dataframe tbody tr th {\n",
       "        vertical-align: top;\n",
       "    }\n",
       "\n",
       "    .dataframe thead th {\n",
       "        text-align: right;\n",
       "    }\n",
       "</style>\n",
       "<table border=\"1\" class=\"dataframe\">\n",
       "  <thead>\n",
       "    <tr style=\"text-align: right;\">\n",
       "      <th></th>\n",
       "      <th>obj1</th>\n",
       "      <th>E1</th>\n",
       "      <th>pt1</th>\n",
       "      <th>eta1</th>\n",
       "      <th>phi1</th>\n",
       "    </tr>\n",
       "  </thead>\n",
       "  <tbody>\n",
       "    <tr>\n",
       "      <th>6394</th>\n",
       "      <td>j</td>\n",
       "      <td>1119940.0</td>\n",
       "      <td>1012690.0</td>\n",
       "      <td>0.453265</td>\n",
       "      <td>-1.772780</td>\n",
       "    </tr>\n",
       "    <tr>\n",
       "      <th>6395</th>\n",
       "      <td>j</td>\n",
       "      <td>1915090.0</td>\n",
       "      <td>874869.0</td>\n",
       "      <td>1.418550</td>\n",
       "      <td>1.839270</td>\n",
       "    </tr>\n",
       "    <tr>\n",
       "      <th>6396</th>\n",
       "      <td>j</td>\n",
       "      <td>787964.0</td>\n",
       "      <td>263158.0</td>\n",
       "      <td>1.759810</td>\n",
       "      <td>0.456786</td>\n",
       "    </tr>\n",
       "    <tr>\n",
       "      <th>6397</th>\n",
       "      <td>j</td>\n",
       "      <td>731849.0</td>\n",
       "      <td>722541.0</td>\n",
       "      <td>-0.134499</td>\n",
       "      <td>2.563930</td>\n",
       "    </tr>\n",
       "    <tr>\n",
       "      <th>6398</th>\n",
       "      <td>j</td>\n",
       "      <td>893689.0</td>\n",
       "      <td>742040.0</td>\n",
       "      <td>-0.618057</td>\n",
       "      <td>-3.104660</td>\n",
       "    </tr>\n",
       "  </tbody>\n",
       "</table>\n",
       "</div>"
      ],
      "text/plain": [
       "     obj1         E1        pt1      eta1      phi1\n",
       "6394    j  1119940.0  1012690.0  0.453265 -1.772780\n",
       "6395    j  1915090.0   874869.0  1.418550  1.839270\n",
       "6396    j   787964.0   263158.0  1.759810  0.456786\n",
       "6397    j   731849.0   722541.0 -0.134499  2.563930\n",
       "6398    j   893689.0   742040.0 -0.618057 -3.104660"
      ]
     },
     "execution_count": 3,
     "metadata": {},
     "output_type": "execute_result"
    }
   ],
   "source": [
    "cols = [i for i in range(5,10)]\n",
    "data = pd.read_csv(path_data,\n",
    "                    header=None,\n",
    "                    usecols=cols,\n",
    "                    names=[\"obj1\", \"E1\", \"pt1\", \"eta1\", \"phi1\"],\n",
    "                    sep=\"[,;]\",\n",
    "                    engine='python',\n",
    "                    )\n",
    "\n",
    "print(\"Data Sample:\")\n",
    "data.tail()"
   ]
  },
  {
   "cell_type": "markdown",
   "metadata": {},
   "source": [
    "We will filter out the rows where obj1 = j  and drop/remove the obj1 column."
   ]
  },
  {
   "cell_type": "code",
   "execution_count": 4,
   "metadata": {},
   "outputs": [
    {
     "data": {
      "text/html": [
       "<div>\n",
       "<style scoped>\n",
       "    .dataframe tbody tr th:only-of-type {\n",
       "        vertical-align: middle;\n",
       "    }\n",
       "\n",
       "    .dataframe tbody tr th {\n",
       "        vertical-align: top;\n",
       "    }\n",
       "\n",
       "    .dataframe thead th {\n",
       "        text-align: right;\n",
       "    }\n",
       "</style>\n",
       "<table border=\"1\" class=\"dataframe\">\n",
       "  <thead>\n",
       "    <tr style=\"text-align: right;\">\n",
       "      <th></th>\n",
       "      <th>E1</th>\n",
       "      <th>pt1</th>\n",
       "      <th>eta1</th>\n",
       "      <th>phi1</th>\n",
       "    </tr>\n",
       "  </thead>\n",
       "  <tbody>\n",
       "    <tr>\n",
       "      <th>1</th>\n",
       "      <td>1069460.0</td>\n",
       "      <td>751597.0</td>\n",
       "      <td>0.858186</td>\n",
       "      <td>-1.842170</td>\n",
       "    </tr>\n",
       "    <tr>\n",
       "      <th>2</th>\n",
       "      <td>676000.0</td>\n",
       "      <td>640429.0</td>\n",
       "      <td>0.330450</td>\n",
       "      <td>0.704554</td>\n",
       "    </tr>\n",
       "    <tr>\n",
       "      <th>3</th>\n",
       "      <td>936707.0</td>\n",
       "      <td>616229.0</td>\n",
       "      <td>0.973383</td>\n",
       "      <td>-1.565920</td>\n",
       "    </tr>\n",
       "    <tr>\n",
       "      <th>4</th>\n",
       "      <td>640313.0</td>\n",
       "      <td>589524.0</td>\n",
       "      <td>0.390749</td>\n",
       "      <td>1.237340</td>\n",
       "    </tr>\n",
       "    <tr>\n",
       "      <th>5</th>\n",
       "      <td>583373.0</td>\n",
       "      <td>545730.0</td>\n",
       "      <td>0.364057</td>\n",
       "      <td>-1.607320</td>\n",
       "    </tr>\n",
       "  </tbody>\n",
       "</table>\n",
       "</div>"
      ],
      "text/plain": [
       "          E1       pt1      eta1      phi1\n",
       "1  1069460.0  751597.0  0.858186 -1.842170\n",
       "2   676000.0  640429.0  0.330450  0.704554\n",
       "3   936707.0  616229.0  0.973383 -1.565920\n",
       "4   640313.0  589524.0  0.390749  1.237340\n",
       "5   583373.0  545730.0  0.364057 -1.607320"
      ]
     },
     "execution_count": 4,
     "metadata": {},
     "output_type": "execute_result"
    }
   ],
   "source": [
    "mask = data[\"obj1\"] == 'j'\n",
    "data_j = data.loc[mask]\n",
    "data_j = data_j.drop(columns='obj1')\n",
    "data_j.head()"
   ]
  },
  {
   "cell_type": "markdown",
   "metadata": {},
   "source": [
    "We will run df.describe() to get statistics about are data set such as mean ,standard deviation(std), etc."
   ]
  },
  {
   "cell_type": "code",
   "execution_count": 5,
   "metadata": {},
   "outputs": [
    {
     "data": {
      "text/html": [
       "<div>\n",
       "<style scoped>\n",
       "    .dataframe tbody tr th:only-of-type {\n",
       "        vertical-align: middle;\n",
       "    }\n",
       "\n",
       "    .dataframe tbody tr th {\n",
       "        vertical-align: top;\n",
       "    }\n",
       "\n",
       "    .dataframe thead th {\n",
       "        text-align: right;\n",
       "    }\n",
       "</style>\n",
       "<table border=\"1\" class=\"dataframe\">\n",
       "  <thead>\n",
       "    <tr style=\"text-align: right;\">\n",
       "      <th></th>\n",
       "      <th>E1</th>\n",
       "      <th>pt1</th>\n",
       "      <th>eta1</th>\n",
       "      <th>phi1</th>\n",
       "    </tr>\n",
       "  </thead>\n",
       "  <tbody>\n",
       "    <tr>\n",
       "      <th>count</th>\n",
       "      <td>6.399000e+03</td>\n",
       "      <td>6.399000e+03</td>\n",
       "      <td>6399.000000</td>\n",
       "      <td>6399.000000</td>\n",
       "    </tr>\n",
       "    <tr>\n",
       "      <th>mean</th>\n",
       "      <td>8.311446e+05</td>\n",
       "      <td>5.885313e+05</td>\n",
       "      <td>0.006106</td>\n",
       "      <td>-0.002143</td>\n",
       "    </tr>\n",
       "    <tr>\n",
       "      <th>std</th>\n",
       "      <td>4.284093e+05</td>\n",
       "      <td>2.495100e+05</td>\n",
       "      <td>0.881935</td>\n",
       "      <td>1.798542</td>\n",
       "    </tr>\n",
       "    <tr>\n",
       "      <th>min</th>\n",
       "      <td>1.398320e+05</td>\n",
       "      <td>1.358400e+05</td>\n",
       "      <td>-3.073250</td>\n",
       "      <td>-3.141360</td>\n",
       "    </tr>\n",
       "    <tr>\n",
       "      <th>25%</th>\n",
       "      <td>5.354220e+05</td>\n",
       "      <td>4.107040e+05</td>\n",
       "      <td>-0.611922</td>\n",
       "      <td>-1.552550</td>\n",
       "    </tr>\n",
       "    <tr>\n",
       "      <th>50%</th>\n",
       "      <td>7.351440e+05</td>\n",
       "      <td>5.486730e+05</td>\n",
       "      <td>-0.006155</td>\n",
       "      <td>0.037045</td>\n",
       "    </tr>\n",
       "    <tr>\n",
       "      <th>75%</th>\n",
       "      <td>1.012185e+06</td>\n",
       "      <td>7.104085e+05</td>\n",
       "      <td>0.630124</td>\n",
       "      <td>1.514105</td>\n",
       "    </tr>\n",
       "    <tr>\n",
       "      <th>max</th>\n",
       "      <td>4.413680e+06</td>\n",
       "      <td>2.090860e+06</td>\n",
       "      <td>2.644470</td>\n",
       "      <td>3.139160</td>\n",
       "    </tr>\n",
       "  </tbody>\n",
       "</table>\n",
       "</div>"
      ],
      "text/plain": [
       "                 E1           pt1         eta1         phi1\n",
       "count  6.399000e+03  6.399000e+03  6399.000000  6399.000000\n",
       "mean   8.311446e+05  5.885313e+05     0.006106    -0.002143\n",
       "std    4.284093e+05  2.495100e+05     0.881935     1.798542\n",
       "min    1.398320e+05  1.358400e+05    -3.073250    -3.141360\n",
       "25%    5.354220e+05  4.107040e+05    -0.611922    -1.552550\n",
       "50%    7.351440e+05  5.486730e+05    -0.006155     0.037045\n",
       "75%    1.012185e+06  7.104085e+05     0.630124     1.514105\n",
       "max    4.413680e+06  2.090860e+06     2.644470     3.139160"
      ]
     },
     "execution_count": 5,
     "metadata": {},
     "output_type": "execute_result"
    }
   ],
   "source": [
    "data.describe()"
   ]
  },
  {
   "cell_type": "markdown",
   "metadata": {},
   "source": [
    "We will define a function to plot histograms of all the columns in the dataset."
   ]
  },
  {
   "cell_type": "code",
   "execution_count": 6,
   "metadata": {},
   "outputs": [],
   "source": [
    "def plot_all(data):\n",
    "    fig, axis = plt.subplots(2, 2, figsize=(15,13))\n",
    "    axis = axis.ravel()\n",
    "    keys = data.keys()\n",
    "    for idx, ax in enumerate(axis):\n",
    "        ax.hist(data[keys[idx]], bins=100)\n",
    "        ax.set_xlabel(str(keys[idx]))\n",
    "        ax.set_ylabel('Number of events')\n",
    "        ax.set_yscale('log')\n",
    "    plt.subplots_adjust(wspace=0.3)\n"
   ]
  },
  {
   "cell_type": "markdown",
   "metadata": {},
   "source": [
    "Now using plot_all function lets lot all the data."
   ]
  },
  {
   "cell_type": "code",
   "execution_count": 7,
   "metadata": {},
   "outputs": [
    {
     "data": {
      "image/png": "[encoded data removed]",
      "text/plain": [
       "<Figure size 1080x936 with 4 Axes>"
      ]
     },
     "metadata": {
      "needs_background": "light"
     },
     "output_type": "display_data"
    }
   ],
   "source": [
    "plot_all(data_j)"
   ]
  },
  {
   "cell_type": "markdown",
   "metadata": {},
   "source": [
    "We define a function to split and save our data to pickle format at the given path."
   ]
  },
  {
   "cell_type": "code",
   "execution_count": 8,
   "metadata": {},
   "outputs": [],
   "source": [
    "def split_to_pickle(data, path):\n",
    "    train, test = train_test_split(data, test_size=0.3, shuffle=True, random_state=1)\n",
    "    print(\"Train len, Test len -\",len(train),len(test))\n",
    "    print(\"Training Sample : \")\n",
    "    print(train.head())\n",
    "    print(\"Testing Sample:\")\n",
    "    print(test.head())\n",
    "    train.to_pickle(path + '/train.pkl')\n",
    "    test.to_pickle(path + '/test.pkl')"
   ]
  },
  {
   "cell_type": "markdown",
   "metadata": {},
   "source": [
    "As we can see E1 and pt1 have very high mean and std due to large values, therefore before saving we can make the values smaller by dividing the respective column values by 1000.\n",
    "\n",
    "Lets define norm and unnorm functions to do that for us."
   ]
  },
  {
   "cell_type": "code",
   "execution_count": 9,
   "metadata": {},
   "outputs": [],
   "source": [
    "def no_norm(data):\n",
    "    data_copy = data.copy()\n",
    "    data_copy['E1'] = data_copy['E1'] / 1000\n",
    "    data_copy['pt1'] = data_copy['pt1'] / 1000\n",
    "    return data_copy\n",
    "\n",
    "def no_unnorm(data):\n",
    "    data_copy = data.copy()\n",
    "    data_copy['E1'] = data_copy['E1'] * 1000\n",
    "    data_copy['pt1'] = data_copy['pt1'] * 1000\n",
    "    return data_copy"
   ]
  },
  {
   "cell_type": "markdown",
   "metadata": {},
   "source": [
    "Lets split and save the data using the function we created."
   ]
  },
  {
   "cell_type": "code",
   "execution_count": 10,
   "metadata": {},
   "outputs": [
    {
     "name": "stdout",
     "output_type": "stream",
     "text": [
      "Train len, Test len - 4341 1861\n",
      "Training Sample : \n",
      "            E1      pt1      eta1      phi1\n",
      "5337  1649.570  731.106 -1.451790  0.871826\n",
      "1994   839.980  320.561  1.615880 -1.014760\n",
      "1345   707.283  502.143  0.871445  0.375241\n",
      "5063  1186.560  842.520  0.872740 -1.741290\n",
      "5542  1191.120  849.486 -0.866221  2.911510\n",
      "Testing Sample:\n",
      "            E1       pt1      eta1     phi1\n",
      "1079   560.120   222.478 -1.570350 -3.02819\n",
      "3930  1215.420  1006.740 -0.620255 -1.30024\n",
      "5437   982.985   547.722  1.188010  1.03066\n",
      "3492   566.231   489.988 -0.393831 -1.62078\n",
      "3702   572.985   470.730  0.637856 -2.56008\n"
     ]
    }
   ],
   "source": [
    "split_to_pickle(no_norm(data_j), path=\"./NoNormilization\")"
   ]
  },
  {
   "cell_type": "markdown",
   "metadata": {},
   "source": [
    "Now the we have saved un-normalized data, lets apply some normalization.\n",
    "\n",
    "We will first apply std normilization to make the variance of each input feature 1.\n",
    "\n",
    "For this we need to know the mean and std of the data."
   ]
  },
  {
   "cell_type": "code",
   "execution_count": 11,
   "metadata": {},
   "outputs": [
    {
     "name": "stdout",
     "output_type": "stream",
     "text": [
      "E1      832868.093196\n",
      "pt1     589437.055788\n",
      "eta1         0.003228\n",
      "phi1         0.004107\n",
      "dtype: float64\n",
      "E1      430473.147784\n",
      "pt1     249542.292299\n",
      "eta1         0.882507\n",
      "phi1         1.797267\n",
      "dtype: float64\n"
     ]
    }
   ],
   "source": [
    "print(data_j.mean())\n",
    "print(data_j.std())"
   ]
  },
  {
   "cell_type": "markdown",
   "metadata": {},
   "source": [
    "Now we will create functions to normalize and unnormalize data using std normalization."
   ]
  },
  {
   "cell_type": "code",
   "execution_count": 12,
   "metadata": {},
   "outputs": [],
   "source": [
    "def standard_normalize_4D(data):\n",
    "    data_copy = data.copy()\n",
    "    data_copy['E1'] = (data_copy['E1']  - 832868.093196) / 430473.147784\n",
    "    data_copy['pt1'] = (data_copy['pt1']  - 589437.055788) / 249542.292299\n",
    "    data_copy['eta1'] = (data_copy['eta1']  - 0.003228) / 0.882507\n",
    "    data_copy['phi1'] = (data_copy['phi1']  - 0.004107) / 1.797267\n",
    "    return data_copy\n",
    "\n",
    "def standard_unnormalize_4D(data):\n",
    "    data_copy = data.copy()\n",
    "    data_copy['E1'] = (data_copy['E1'] * 430473.147784 ) + 832868.093196\n",
    "    data_copy['pt1'] = (data_copy['pt1'] * 249542.292299 ) + 589437.055788\n",
    "    data_copy['eta1'] = (data_copy['eta1'] * 0.882507 ) + 0.003228\n",
    "    data_copy['phi1'] = (data_copy['phi1'] * 1.797267 ) + 0.004107\n",
    "    return data_copy\n"
   ]
  },
  {
   "cell_type": "code",
   "execution_count": 13,
   "metadata": {},
   "outputs": [],
   "source": [
    "std_normalized_data = standard_normalize_4D(data_j)"
   ]
  },
  {
   "cell_type": "markdown",
   "metadata": {},
   "source": [
    "Lets check the statistics of the std normalized data"
   ]
  },
  {
   "cell_type": "code",
   "execution_count": 14,
   "metadata": {},
   "outputs": [
    {
     "data": {
      "text/html": [
       "<div>\n",
       "<style scoped>\n",
       "    .dataframe tbody tr th:only-of-type {\n",
       "        vertical-align: middle;\n",
       "    }\n",
       "\n",
       "    .dataframe tbody tr th {\n",
       "        vertical-align: top;\n",
       "    }\n",
       "\n",
       "    .dataframe thead th {\n",
       "        text-align: right;\n",
       "    }\n",
       "</style>\n",
       "<table border=\"1\" class=\"dataframe\">\n",
       "  <thead>\n",
       "    <tr style=\"text-align: right;\">\n",
       "      <th></th>\n",
       "      <th>E1</th>\n",
       "      <th>pt1</th>\n",
       "      <th>eta1</th>\n",
       "      <th>phi1</th>\n",
       "    </tr>\n",
       "  </thead>\n",
       "  <tbody>\n",
       "    <tr>\n",
       "      <th>count</th>\n",
       "      <td>6.202000e+03</td>\n",
       "      <td>6.202000e+03</td>\n",
       "      <td>6.202000e+03</td>\n",
       "      <td>6.202000e+03</td>\n",
       "    </tr>\n",
       "    <tr>\n",
       "      <th>mean</th>\n",
       "      <td>-5.962401e-13</td>\n",
       "      <td>1.824694e-12</td>\n",
       "      <td>1.959109e-07</td>\n",
       "      <td>-9.971157e-08</td>\n",
       "    </tr>\n",
       "    <tr>\n",
       "      <th>std</th>\n",
       "      <td>1.000000e+00</td>\n",
       "      <td>1.000000e+00</td>\n",
       "      <td>1.000000e+00</td>\n",
       "      <td>1.000000e+00</td>\n",
       "    </tr>\n",
       "    <tr>\n",
       "      <th>min</th>\n",
       "      <td>-1.609940e+00</td>\n",
       "      <td>-1.817716e+00</td>\n",
       "      <td>-3.486066e+00</td>\n",
       "      <td>-1.750139e+00</td>\n",
       "    </tr>\n",
       "    <tr>\n",
       "      <th>25%</th>\n",
       "      <td>-6.869321e-01</td>\n",
       "      <td>-7.115249e-01</td>\n",
       "      <td>-7.012199e-01</td>\n",
       "      <td>-8.584323e-01</td>\n",
       "    </tr>\n",
       "    <tr>\n",
       "      <th>50%</th>\n",
       "      <td>-2.251943e-01</td>\n",
       "      <td>-1.564567e-01</td>\n",
       "      <td>-1.368944e-02</td>\n",
       "      <td>2.128098e-02</td>\n",
       "    </tr>\n",
       "    <tr>\n",
       "      <th>75%</th>\n",
       "      <td>4.212154e-01</td>\n",
       "      <td>4.916489e-01</td>\n",
       "      <td>7.056043e-01</td>\n",
       "      <td>8.431263e-01</td>\n",
       "    </tr>\n",
       "    <tr>\n",
       "      <th>max</th>\n",
       "      <td>8.318317e+00</td>\n",
       "      <td>6.016707e+00</td>\n",
       "      <td>2.992885e+00</td>\n",
       "      <td>1.744345e+00</td>\n",
       "    </tr>\n",
       "  </tbody>\n",
       "</table>\n",
       "</div>"
      ],
      "text/plain": [
       "                 E1           pt1          eta1          phi1\n",
       "count  6.202000e+03  6.202000e+03  6.202000e+03  6.202000e+03\n",
       "mean  -5.962401e-13  1.824694e-12  1.959109e-07 -9.971157e-08\n",
       "std    1.000000e+00  1.000000e+00  1.000000e+00  1.000000e+00\n",
       "min   -1.609940e+00 -1.817716e+00 -3.486066e+00 -1.750139e+00\n",
       "25%   -6.869321e-01 -7.115249e-01 -7.012199e-01 -8.584323e-01\n",
       "50%   -2.251943e-01 -1.564567e-01 -1.368944e-02  2.128098e-02\n",
       "75%    4.212154e-01  4.916489e-01  7.056043e-01  8.431263e-01\n",
       "max    8.318317e+00  6.016707e+00  2.992885e+00  1.744345e+00"
      ]
     },
     "execution_count": 14,
     "metadata": {},
     "output_type": "execute_result"
    }
   ],
   "source": [
    "std_normalized_data.describe()"
   ]
  },
  {
   "cell_type": "code",
   "execution_count": 15,
   "metadata": {},
   "outputs": [
    {
     "data": {
      "image/png": "[encoded data removed]",
      "text/plain": [
       "<Figure size 1080x936 with 4 Axes>"
      ]
     },
     "metadata": {
      "needs_background": "light"
     },
     "output_type": "display_data"
    }
   ],
   "source": [
    "plot_all(std_normalized_data)"
   ]
  },
  {
   "cell_type": "markdown",
   "metadata": {},
   "source": [
    "As we can see from the graph the variance of input features is much better now.\n",
    "\n",
    "Lets split and save the std normalized data to pickle format."
   ]
  },
  {
   "cell_type": "code",
   "execution_count": 16,
   "metadata": {},
   "outputs": [
    {
     "name": "stdout",
     "output_type": "stream",
     "text": [
      "Train len, Test len - 4341 1861\n",
      "Training Sample : \n",
      "            E1       pt1      eta1      phi1\n",
      "5337  1.897219  0.567715 -1.648733  0.482799\n",
      "1994  0.016521 -1.077477  1.827353 -0.566898\n",
      "1345 -0.291737 -0.349817  0.983807  0.206499\n",
      "5063  0.821635  1.014189  0.985275 -0.971140\n",
      "5542  0.832228  1.042104 -0.985204  1.617680\n",
      "Testing Sample:\n",
      "            E1       pt1      eta1      phi1\n",
      "1079 -0.633601 -1.470529 -1.783077 -1.687171\n",
      "3930  0.888678  1.672273 -0.706491 -0.725739\n",
      "5437  0.348725 -0.167166  1.342519  0.571174\n",
      "3492 -0.619405 -0.398526 -0.449922 -0.904088\n",
      "3702 -0.603715 -0.475699  0.719120 -1.426715\n"
     ]
    }
   ],
   "source": [
    "split_to_pickle(std_normalized_data, path=\"./StdNorm\")"
   ]
  },
  {
   "cell_type": "markdown",
   "metadata": {},
   "source": [
    "Now lets do some custom normilization with the observations we have."
   ]
  },
  {
   "cell_type": "code",
   "execution_count": 17,
   "metadata": {},
   "outputs": [
    {
     "data": {
      "text/html": [
       "<div>\n",
       "<style scoped>\n",
       "    .dataframe tbody tr th:only-of-type {\n",
       "        vertical-align: middle;\n",
       "    }\n",
       "\n",
       "    .dataframe tbody tr th {\n",
       "        vertical-align: top;\n",
       "    }\n",
       "\n",
       "    .dataframe thead th {\n",
       "        text-align: right;\n",
       "    }\n",
       "</style>\n",
       "<table border=\"1\" class=\"dataframe\">\n",
       "  <thead>\n",
       "    <tr style=\"text-align: right;\">\n",
       "      <th></th>\n",
       "      <th>E1</th>\n",
       "      <th>pt1</th>\n",
       "      <th>eta1</th>\n",
       "      <th>phi1</th>\n",
       "    </tr>\n",
       "  </thead>\n",
       "  <tbody>\n",
       "    <tr>\n",
       "      <th>count</th>\n",
       "      <td>6.202000e+03</td>\n",
       "      <td>6.202000e+03</td>\n",
       "      <td>6202.000000</td>\n",
       "      <td>6202.000000</td>\n",
       "    </tr>\n",
       "    <tr>\n",
       "      <th>mean</th>\n",
       "      <td>8.328681e+05</td>\n",
       "      <td>5.894371e+05</td>\n",
       "      <td>0.003228</td>\n",
       "      <td>0.004107</td>\n",
       "    </tr>\n",
       "    <tr>\n",
       "      <th>std</th>\n",
       "      <td>4.304731e+05</td>\n",
       "      <td>2.495423e+05</td>\n",
       "      <td>0.882507</td>\n",
       "      <td>1.797267</td>\n",
       "    </tr>\n",
       "    <tr>\n",
       "      <th>min</th>\n",
       "      <td>1.398320e+05</td>\n",
       "      <td>1.358400e+05</td>\n",
       "      <td>-3.073250</td>\n",
       "      <td>-3.141360</td>\n",
       "    </tr>\n",
       "    <tr>\n",
       "      <th>25%</th>\n",
       "      <td>5.371622e+05</td>\n",
       "      <td>4.118815e+05</td>\n",
       "      <td>-0.615603</td>\n",
       "      <td>-1.538725</td>\n",
       "    </tr>\n",
       "    <tr>\n",
       "      <th>50%</th>\n",
       "      <td>7.359280e+05</td>\n",
       "      <td>5.503945e+05</td>\n",
       "      <td>-0.008853</td>\n",
       "      <td>0.042355</td>\n",
       "    </tr>\n",
       "    <tr>\n",
       "      <th>75%</th>\n",
       "      <td>1.014190e+06</td>\n",
       "      <td>7.121242e+05</td>\n",
       "      <td>0.625929</td>\n",
       "      <td>1.519430</td>\n",
       "    </tr>\n",
       "    <tr>\n",
       "      <th>max</th>\n",
       "      <td>4.413680e+06</td>\n",
       "      <td>2.090860e+06</td>\n",
       "      <td>2.644470</td>\n",
       "      <td>3.139160</td>\n",
       "    </tr>\n",
       "  </tbody>\n",
       "</table>\n",
       "</div>"
      ],
      "text/plain": [
       "                 E1           pt1         eta1         phi1\n",
       "count  6.202000e+03  6.202000e+03  6202.000000  6202.000000\n",
       "mean   8.328681e+05  5.894371e+05     0.003228     0.004107\n",
       "std    4.304731e+05  2.495423e+05     0.882507     1.797267\n",
       "min    1.398320e+05  1.358400e+05    -3.073250    -3.141360\n",
       "25%    5.371622e+05  4.118815e+05    -0.615603    -1.538725\n",
       "50%    7.359280e+05  5.503945e+05    -0.008853     0.042355\n",
       "75%    1.014190e+06  7.121242e+05     0.625929     1.519430\n",
       "max    4.413680e+06  2.090860e+06     2.644470     3.139160"
      ]
     },
     "execution_count": 17,
     "metadata": {},
     "output_type": "execute_result"
    }
   ],
   "source": [
    "data_j.describe()"
   ]
  },
  {
   "cell_type": "markdown",
   "metadata": {},
   "source": [
    "As we can see the variance of E1 and pt1 is very high.\n",
    "\n",
    "To make the variance smaller we can do log normilization on the columns.\n",
    "\n",
    "For this we just need to take log of all values in the column."
   ]
  },
  {
   "cell_type": "code",
   "execution_count": 18,
   "metadata": {},
   "outputs": [],
   "source": [
    "log_normalized_data = data_j.copy()\n",
    "log_normalized_data['E1'] = np.log10(log_normalized_data['E1'])\n",
    "log_normalized_data['pt1'] = np.log10(log_normalized_data['pt1'])"
   ]
  },
  {
   "cell_type": "markdown",
   "metadata": {},
   "source": [
    "Now lets check the statistics of the log normalized data."
   ]
  },
  {
   "cell_type": "code",
   "execution_count": 19,
   "metadata": {},
   "outputs": [
    {
     "data": {
      "text/html": [
       "<div>\n",
       "<style scoped>\n",
       "    .dataframe tbody tr th:only-of-type {\n",
       "        vertical-align: middle;\n",
       "    }\n",
       "\n",
       "    .dataframe tbody tr th {\n",
       "        vertical-align: top;\n",
       "    }\n",
       "\n",
       "    .dataframe thead th {\n",
       "        text-align: right;\n",
       "    }\n",
       "</style>\n",
       "<table border=\"1\" class=\"dataframe\">\n",
       "  <thead>\n",
       "    <tr style=\"text-align: right;\">\n",
       "      <th></th>\n",
       "      <th>E1</th>\n",
       "      <th>pt1</th>\n",
       "      <th>eta1</th>\n",
       "      <th>phi1</th>\n",
       "    </tr>\n",
       "  </thead>\n",
       "  <tbody>\n",
       "    <tr>\n",
       "      <th>count</th>\n",
       "      <td>6202.000000</td>\n",
       "      <td>6202.000000</td>\n",
       "      <td>6202.000000</td>\n",
       "      <td>6202.000000</td>\n",
       "    </tr>\n",
       "    <tr>\n",
       "      <th>mean</th>\n",
       "      <td>5.870722</td>\n",
       "      <td>5.734102</td>\n",
       "      <td>0.003228</td>\n",
       "      <td>0.004107</td>\n",
       "    </tr>\n",
       "    <tr>\n",
       "      <th>std</th>\n",
       "      <td>0.206139</td>\n",
       "      <td>0.178318</td>\n",
       "      <td>0.882507</td>\n",
       "      <td>1.797267</td>\n",
       "    </tr>\n",
       "    <tr>\n",
       "      <th>min</th>\n",
       "      <td>5.145607</td>\n",
       "      <td>5.133028</td>\n",
       "      <td>-3.073250</td>\n",
       "      <td>-3.141360</td>\n",
       "    </tr>\n",
       "    <tr>\n",
       "      <th>25%</th>\n",
       "      <td>5.730105</td>\n",
       "      <td>5.614772</td>\n",
       "      <td>-0.615603</td>\n",
       "      <td>-1.538725</td>\n",
       "    </tr>\n",
       "    <tr>\n",
       "      <th>50%</th>\n",
       "      <td>5.866835</td>\n",
       "      <td>5.740674</td>\n",
       "      <td>-0.008853</td>\n",
       "      <td>0.042355</td>\n",
       "    </tr>\n",
       "    <tr>\n",
       "      <th>75%</th>\n",
       "      <td>6.006119</td>\n",
       "      <td>5.852556</td>\n",
       "      <td>0.625929</td>\n",
       "      <td>1.519430</td>\n",
       "    </tr>\n",
       "    <tr>\n",
       "      <th>max</th>\n",
       "      <td>6.644801</td>\n",
       "      <td>6.320325</td>\n",
       "      <td>2.644470</td>\n",
       "      <td>3.139160</td>\n",
       "    </tr>\n",
       "  </tbody>\n",
       "</table>\n",
       "</div>"
      ],
      "text/plain": [
       "                E1          pt1         eta1         phi1\n",
       "count  6202.000000  6202.000000  6202.000000  6202.000000\n",
       "mean      5.870722     5.734102     0.003228     0.004107\n",
       "std       0.206139     0.178318     0.882507     1.797267\n",
       "min       5.145607     5.133028    -3.073250    -3.141360\n",
       "25%       5.730105     5.614772    -0.615603    -1.538725\n",
       "50%       5.866835     5.740674    -0.008853     0.042355\n",
       "75%       6.006119     5.852556     0.625929     1.519430\n",
       "max       6.644801     6.320325     2.644470     3.139160"
      ]
     },
     "execution_count": 19,
     "metadata": {},
     "output_type": "execute_result"
    }
   ],
   "source": [
    "log_normalized_data.describe()"
   ]
  },
  {
   "cell_type": "markdown",
   "metadata": {},
   "source": [
    "As we can see the variance of E1 and pt1 is much smaller now.\n",
    "\n",
    "Let's plot the data to take a better look."
   ]
  },
  {
   "cell_type": "code",
   "execution_count": 20,
   "metadata": {},
   "outputs": [
    {
     "data": {
      "image/png": "[encoded data removed]",
      "text/plain": [
       "<Figure size 1080x936 with 4 Axes>"
      ]
     },
     "metadata": {
      "needs_background": "light"
     },
     "output_type": "display_data"
    }
   ],
   "source": [
    "plot_all(log_normalized_data)"
   ]
  },
  {
   "cell_type": "markdown",
   "metadata": {},
   "source": [
    "Now as we can observe from the graphs the distribution the all the input features is uniform which is represented by the bell like curve when plotting the data.\n",
    "\n",
    "Now to further improve this, we can see that the peak of the curve of E1 and pt1 is not around zero on the x-axis, this can be a problem.\n",
    "\n",
    "We can overcome this problem by substracting the mean from E1 and pt1 respectively."
   ]
  },
  {
   "cell_type": "code",
   "execution_count": 21,
   "metadata": {},
   "outputs": [],
   "source": [
    "log_normalized_data['E1'] = log_normalized_data['E1'] - 5.870722\n",
    "log_normalized_data['pt1'] = log_normalized_data['pt1'] - 5.734102"
   ]
  },
  {
   "cell_type": "markdown",
   "metadata": {},
   "source": [
    "Now lets check the statistics of the log normalized and mean corrected data."
   ]
  },
  {
   "cell_type": "code",
   "execution_count": 22,
   "metadata": {},
   "outputs": [
    {
     "data": {
      "text/html": [
       "<div>\n",
       "<style scoped>\n",
       "    .dataframe tbody tr th:only-of-type {\n",
       "        vertical-align: middle;\n",
       "    }\n",
       "\n",
       "    .dataframe tbody tr th {\n",
       "        vertical-align: top;\n",
       "    }\n",
       "\n",
       "    .dataframe thead th {\n",
       "        text-align: right;\n",
       "    }\n",
       "</style>\n",
       "<table border=\"1\" class=\"dataframe\">\n",
       "  <thead>\n",
       "    <tr style=\"text-align: right;\">\n",
       "      <th></th>\n",
       "      <th>E1</th>\n",
       "      <th>pt1</th>\n",
       "      <th>eta1</th>\n",
       "      <th>phi1</th>\n",
       "    </tr>\n",
       "  </thead>\n",
       "  <tbody>\n",
       "    <tr>\n",
       "      <th>count</th>\n",
       "      <td>6.202000e+03</td>\n",
       "      <td>6.202000e+03</td>\n",
       "      <td>6202.000000</td>\n",
       "      <td>6202.000000</td>\n",
       "    </tr>\n",
       "    <tr>\n",
       "      <th>mean</th>\n",
       "      <td>-4.060624e-07</td>\n",
       "      <td>-2.049346e-07</td>\n",
       "      <td>0.003228</td>\n",
       "      <td>0.004107</td>\n",
       "    </tr>\n",
       "    <tr>\n",
       "      <th>std</th>\n",
       "      <td>2.061387e-01</td>\n",
       "      <td>1.783180e-01</td>\n",
       "      <td>0.882507</td>\n",
       "      <td>1.797267</td>\n",
       "    </tr>\n",
       "    <tr>\n",
       "      <th>min</th>\n",
       "      <td>-7.251154e-01</td>\n",
       "      <td>-6.010743e-01</td>\n",
       "      <td>-3.073250</td>\n",
       "      <td>-3.141360</td>\n",
       "    </tr>\n",
       "    <tr>\n",
       "      <th>25%</th>\n",
       "      <td>-1.406165e-01</td>\n",
       "      <td>-1.193297e-01</td>\n",
       "      <td>-0.615603</td>\n",
       "      <td>-1.538725</td>\n",
       "    </tr>\n",
       "    <tr>\n",
       "      <th>50%</th>\n",
       "      <td>-3.886674e-03</td>\n",
       "      <td>6.572075e-03</td>\n",
       "      <td>-0.008853</td>\n",
       "      <td>0.042355</td>\n",
       "    </tr>\n",
       "    <tr>\n",
       "      <th>75%</th>\n",
       "      <td>1.353973e-01</td>\n",
       "      <td>1.184538e-01</td>\n",
       "      <td>0.625929</td>\n",
       "      <td>1.519430</td>\n",
       "    </tr>\n",
       "    <tr>\n",
       "      <th>max</th>\n",
       "      <td>7.740788e-01</td>\n",
       "      <td>5.862230e-01</td>\n",
       "      <td>2.644470</td>\n",
       "      <td>3.139160</td>\n",
       "    </tr>\n",
       "  </tbody>\n",
       "</table>\n",
       "</div>"
      ],
      "text/plain": [
       "                 E1           pt1         eta1         phi1\n",
       "count  6.202000e+03  6.202000e+03  6202.000000  6202.000000\n",
       "mean  -4.060624e-07 -2.049346e-07     0.003228     0.004107\n",
       "std    2.061387e-01  1.783180e-01     0.882507     1.797267\n",
       "min   -7.251154e-01 -6.010743e-01    -3.073250    -3.141360\n",
       "25%   -1.406165e-01 -1.193297e-01    -0.615603    -1.538725\n",
       "50%   -3.886674e-03  6.572075e-03    -0.008853     0.042355\n",
       "75%    1.353973e-01  1.184538e-01     0.625929     1.519430\n",
       "max    7.740788e-01  5.862230e-01     2.644470     3.139160"
      ]
     },
     "execution_count": 22,
     "metadata": {},
     "output_type": "execute_result"
    }
   ],
   "source": [
    "log_normalized_data.describe()"
   ]
  },
  {
   "cell_type": "markdown",
   "metadata": {},
   "source": [
    "Lets plot the data to have a better look."
   ]
  },
  {
   "cell_type": "code",
   "execution_count": 23,
   "metadata": {},
   "outputs": [
    {
     "data": {
      "image/png": "[encoded data removed]",
      "text/plain": [
       "<Figure size 1080x936 with 4 Axes>"
      ]
     },
     "metadata": {
      "needs_background": "light"
     },
     "output_type": "display_data"
    }
   ],
   "source": [
    "plot_all(log_normalized_data)"
   ]
  },
  {
   "cell_type": "markdown",
   "metadata": {},
   "source": [
    "Now the imporve this further we can scale these values between -1 and 1 using the min-max values of each input feature."
   ]
  },
  {
   "cell_type": "code",
   "execution_count": 24,
   "metadata": {},
   "outputs": [],
   "source": [
    "log_normalized_data['E1'] = log_normalized_data['E1'] / 0.7\n",
    "log_normalized_data['pt1'] = log_normalized_data['pt1'] / 0.6\n",
    "log_normalized_data['eta1'] = log_normalized_data['eta1'] / 2.6\n",
    "log_normalized_data['phi1'] = log_normalized_data['phi1'] / 3.14"
   ]
  },
  {
   "cell_type": "markdown",
   "metadata": {},
   "source": [
    "Lets plot the data now to take a better look."
   ]
  },
  {
   "cell_type": "code",
   "execution_count": 25,
   "metadata": {},
   "outputs": [
    {
     "data": {
      "image/png": "[encoded data removed]",
      "text/plain": [
       "<Figure size 1080x936 with 4 Axes>"
      ]
     },
     "metadata": {
      "needs_background": "light"
     },
     "output_type": "display_data"
    }
   ],
   "source": [
    "plot_all(log_normalized_data)"
   ]
  },
  {
   "cell_type": "markdown",
   "metadata": {},
   "source": [
    "As we can see from the graphs all our values are roughly between -1 and 1.\n",
    "\n",
    "Now we can combine all these transformations in custom_normalize_4D function and custom_unnormalize_4D function."
   ]
  },
  {
   "cell_type": "code",
   "execution_count": 26,
   "metadata": {},
   "outputs": [],
   "source": [
    "def custom_normalize_4D(data):\n",
    "    data_copy = data.copy()\n",
    "    data_copy['E1'] = (np.log10(data_copy['E1']) - 5.870722) / 0.7\n",
    "    data_copy['pt1'] = (np.log10(data_copy['pt1']) - 5.734102) / 0.6\n",
    "    data_copy['eta1'] = data_copy['eta1'] / 2.6\n",
    "    data_copy['phi1'] = data_copy['phi1'] / 3.14\n",
    "    return data_copy\n",
    "\n",
    "\n",
    "def custom_unnormalize_4D(data):\n",
    "    data_copy = data.copy()\n",
    "    data_copy['E1'] = np.power(10, data_copy['E1'] * 0.7 + 5.870722)\n",
    "    data_copy['pt1'] = np.power(10, data_copy['pt1'] * 0.6 + 5.734102)\n",
    "    data_copy['eta1'] = data_copy['eta1'] * 2.6\n",
    "    data_copy['phi1'] = data_copy['phi1'] * 3.14\n",
    "    return data_copy"
   ]
  },
  {
   "cell_type": "markdown",
   "metadata": {},
   "source": [
    "Lets custom normalize and plot the data."
   ]
  },
  {
   "cell_type": "code",
   "execution_count": 27,
   "metadata": {},
   "outputs": [
    {
     "data": {
      "image/png": "[encoded data removed]",
      "text/plain": [
       "<Figure size 1080x936 with 4 Axes>"
      ]
     },
     "metadata": {
      "needs_background": "light"
     },
     "output_type": "display_data"
    }
   ],
   "source": [
    "custom_normalized_data = custom_normalize_4D(data_j)\n",
    "plot_all(custom_normalized_data)"
   ]
  },
  {
   "cell_type": "markdown",
   "metadata": {},
   "source": [
    "We split and save the custom normalized data."
   ]
  },
  {
   "cell_type": "code",
   "execution_count": 28,
   "metadata": {},
   "outputs": [
    {
     "name": "stdout",
     "output_type": "stream",
     "text": [
      "Train len, Test len - 4341 1861\n",
      "Training Sample : \n",
      "            E1       pt1      eta1      phi1\n",
      "5337  0.495212  0.216464 -0.558381  0.277652\n",
      "1994  0.076496 -0.380319  0.621492 -0.323172\n",
      "1345 -0.030184 -0.055458  0.335171  0.119504\n",
      "5063  0.290811  0.319130  0.335669 -0.554551\n",
      "5542  0.293191  0.325090 -0.333162  0.927232\n",
      "Testing Sample:\n",
      "            E1       pt1      eta1      phi1\n",
      "1079 -0.174916 -0.644692 -0.603981 -0.964392\n",
      "3930  0.305721  0.448026 -0.238560 -0.414089\n",
      "5437  0.174036  0.007430  0.456927  0.328236\n",
      "3492 -0.168183 -0.073194 -0.151473 -0.516172\n",
      "3702 -0.160827 -0.102217  0.245329 -0.815312\n"
     ]
    }
   ],
   "source": [
    "split_to_pickle(custom_normalized_data, path=\"./CustomNorm\")"
   ]
  },
  {
   "cell_type": "code",
   "execution_count": null,
   "metadata": {},
   "outputs": [],
   "source": []
  }
 ],
 "metadata": {
  "kernelspec": {
   "display_name": "Python 3",
   "language": "python",
   "name": "python3"
  },
  "language_info": {
   "codemirror_mode": {
    "name": "ipython",
    "version": 3
   },
   "file_extension": ".py",
   "mimetype": "text/x-python",
   "name": "python",
   "nbconvert_exporter": "python",
   "pygments_lexer": "ipython3",
   "version": "3.7.9"
  }
 },
 "nbformat": 4,
 "nbformat_minor": 2
}
